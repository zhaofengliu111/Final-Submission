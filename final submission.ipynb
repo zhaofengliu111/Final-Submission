{
  "cells": [
    {
      "cell_type": "markdown",
      "source": [
        "## Assignment 1 - Exploratory Data Analysis \n"
      ],
      "metadata": {
        "id": "OYV8W7XhWsWd"
      }
    },
    {
      "cell_type": "markdown",
      "source": [
        "Today is your first day working as a data scientist at Granite Health Tech. Your new team \n",
        "is working on a diabetes project and recently gained access to the attached dataset from \n",
        "continuous glucose monitors (CGMs) used in diabetes management. As the data scientist \n",
        "on the team, they are giving you one week to conduct \"Exploratory Data Analysis\" on \n",
        "the provided dataset and make a presentation to management accordingly. Your task is \n",
        "to learn as much as you can about the dataset in the provided time and then leverage \n",
        "effective visuals to communicate your findings. Below are a few specific questions that \n",
        "the team wants to know: "
      ],
      "metadata": {
        "id": "zFgjB5brWyzM"
      }
    },
    {
      "cell_type": "markdown",
      "source": [
        "#import dataframes\n"
      ],
      "metadata": {
        "id": "t289tqrdW1Om"
      }
    },
    {
      "cell_type": "code",
      "execution_count": 10,
      "metadata": {
        "colab": {
          "base_uri": "https://localhost:8080/",
          "height": 72
        },
        "id": "gJr_9dXGpJ05",
        "outputId": "f9a0f42c-63af-4e22-98e4-f904def56418"
      },
      "outputs": [
        {
          "output_type": "display_data",
          "data": {
            "text/plain": [
              "<IPython.core.display.HTML object>"
            ],
            "text/html": [
              "\n",
              "     <input type=\"file\" id=\"files-5a1e627d-a81f-4dc0-8765-b6841a589c41\" name=\"files[]\" multiple disabled\n",
              "        style=\"border:none\" />\n",
              "     <output id=\"result-5a1e627d-a81f-4dc0-8765-b6841a589c41\">\n",
              "      Upload widget is only available when the cell has been executed in the\n",
              "      current browser session. Please rerun this cell to enable.\n",
              "      </output>\n",
              "      <script>// Copyright 2017 Google LLC\n",
              "//\n",
              "// Licensed under the Apache License, Version 2.0 (the \"License\");\n",
              "// you may not use this file except in compliance with the License.\n",
              "// You may obtain a copy of the License at\n",
              "//\n",
              "//      http://www.apache.org/licenses/LICENSE-2.0\n",
              "//\n",
              "// Unless required by applicable law or agreed to in writing, software\n",
              "// distributed under the License is distributed on an \"AS IS\" BASIS,\n",
              "// WITHOUT WARRANTIES OR CONDITIONS OF ANY KIND, either express or implied.\n",
              "// See the License for the specific language governing permissions and\n",
              "// limitations under the License.\n",
              "\n",
              "/**\n",
              " * @fileoverview Helpers for google.colab Python module.\n",
              " */\n",
              "(function(scope) {\n",
              "function span(text, styleAttributes = {}) {\n",
              "  const element = document.createElement('span');\n",
              "  element.textContent = text;\n",
              "  for (const key of Object.keys(styleAttributes)) {\n",
              "    element.style[key] = styleAttributes[key];\n",
              "  }\n",
              "  return element;\n",
              "}\n",
              "\n",
              "// Max number of bytes which will be uploaded at a time.\n",
              "const MAX_PAYLOAD_SIZE = 100 * 1024;\n",
              "\n",
              "function _uploadFiles(inputId, outputId) {\n",
              "  const steps = uploadFilesStep(inputId, outputId);\n",
              "  const outputElement = document.getElementById(outputId);\n",
              "  // Cache steps on the outputElement to make it available for the next call\n",
              "  // to uploadFilesContinue from Python.\n",
              "  outputElement.steps = steps;\n",
              "\n",
              "  return _uploadFilesContinue(outputId);\n",
              "}\n",
              "\n",
              "// This is roughly an async generator (not supported in the browser yet),\n",
              "// where there are multiple asynchronous steps and the Python side is going\n",
              "// to poll for completion of each step.\n",
              "// This uses a Promise to block the python side on completion of each step,\n",
              "// then passes the result of the previous step as the input to the next step.\n",
              "function _uploadFilesContinue(outputId) {\n",
              "  const outputElement = document.getElementById(outputId);\n",
              "  const steps = outputElement.steps;\n",
              "\n",
              "  const next = steps.next(outputElement.lastPromiseValue);\n",
              "  return Promise.resolve(next.value.promise).then((value) => {\n",
              "    // Cache the last promise value to make it available to the next\n",
              "    // step of the generator.\n",
              "    outputElement.lastPromiseValue = value;\n",
              "    return next.value.response;\n",
              "  });\n",
              "}\n",
              "\n",
              "/**\n",
              " * Generator function which is called between each async step of the upload\n",
              " * process.\n",
              " * @param {string} inputId Element ID of the input file picker element.\n",
              " * @param {string} outputId Element ID of the output display.\n",
              " * @return {!Iterable<!Object>} Iterable of next steps.\n",
              " */\n",
              "function* uploadFilesStep(inputId, outputId) {\n",
              "  const inputElement = document.getElementById(inputId);\n",
              "  inputElement.disabled = false;\n",
              "\n",
              "  const outputElement = document.getElementById(outputId);\n",
              "  outputElement.innerHTML = '';\n",
              "\n",
              "  const pickedPromise = new Promise((resolve) => {\n",
              "    inputElement.addEventListener('change', (e) => {\n",
              "      resolve(e.target.files);\n",
              "    });\n",
              "  });\n",
              "\n",
              "  const cancel = document.createElement('button');\n",
              "  inputElement.parentElement.appendChild(cancel);\n",
              "  cancel.textContent = 'Cancel upload';\n",
              "  const cancelPromise = new Promise((resolve) => {\n",
              "    cancel.onclick = () => {\n",
              "      resolve(null);\n",
              "    };\n",
              "  });\n",
              "\n",
              "  // Wait for the user to pick the files.\n",
              "  const files = yield {\n",
              "    promise: Promise.race([pickedPromise, cancelPromise]),\n",
              "    response: {\n",
              "      action: 'starting',\n",
              "    }\n",
              "  };\n",
              "\n",
              "  cancel.remove();\n",
              "\n",
              "  // Disable the input element since further picks are not allowed.\n",
              "  inputElement.disabled = true;\n",
              "\n",
              "  if (!files) {\n",
              "    return {\n",
              "      response: {\n",
              "        action: 'complete',\n",
              "      }\n",
              "    };\n",
              "  }\n",
              "\n",
              "  for (const file of files) {\n",
              "    const li = document.createElement('li');\n",
              "    li.append(span(file.name, {fontWeight: 'bold'}));\n",
              "    li.append(span(\n",
              "        `(${file.type || 'n/a'}) - ${file.size} bytes, ` +\n",
              "        `last modified: ${\n",
              "            file.lastModifiedDate ? file.lastModifiedDate.toLocaleDateString() :\n",
              "                                    'n/a'} - `));\n",
              "    const percent = span('0% done');\n",
              "    li.appendChild(percent);\n",
              "\n",
              "    outputElement.appendChild(li);\n",
              "\n",
              "    const fileDataPromise = new Promise((resolve) => {\n",
              "      const reader = new FileReader();\n",
              "      reader.onload = (e) => {\n",
              "        resolve(e.target.result);\n",
              "      };\n",
              "      reader.readAsArrayBuffer(file);\n",
              "    });\n",
              "    // Wait for the data to be ready.\n",
              "    let fileData = yield {\n",
              "      promise: fileDataPromise,\n",
              "      response: {\n",
              "        action: 'continue',\n",
              "      }\n",
              "    };\n",
              "\n",
              "    // Use a chunked sending to avoid message size limits. See b/62115660.\n",
              "    let position = 0;\n",
              "    do {\n",
              "      const length = Math.min(fileData.byteLength - position, MAX_PAYLOAD_SIZE);\n",
              "      const chunk = new Uint8Array(fileData, position, length);\n",
              "      position += length;\n",
              "\n",
              "      const base64 = btoa(String.fromCharCode.apply(null, chunk));\n",
              "      yield {\n",
              "        response: {\n",
              "          action: 'append',\n",
              "          file: file.name,\n",
              "          data: base64,\n",
              "        },\n",
              "      };\n",
              "\n",
              "      let percentDone = fileData.byteLength === 0 ?\n",
              "          100 :\n",
              "          Math.round((position / fileData.byteLength) * 100);\n",
              "      percent.textContent = `${percentDone}% done`;\n",
              "\n",
              "    } while (position < fileData.byteLength);\n",
              "  }\n",
              "\n",
              "  // All done.\n",
              "  yield {\n",
              "    response: {\n",
              "      action: 'complete',\n",
              "    }\n",
              "  };\n",
              "}\n",
              "\n",
              "scope.google = scope.google || {};\n",
              "scope.google.colab = scope.google.colab || {};\n",
              "scope.google.colab._files = {\n",
              "  _uploadFiles,\n",
              "  _uploadFilesContinue,\n",
              "};\n",
              "})(self);\n",
              "</script> "
            ]
          },
          "metadata": {}
        },
        {
          "output_type": "stream",
          "name": "stdout",
          "text": [
            "Saving Subject10.xlsx to Subject10.xlsx\n"
          ]
        }
      ],
      "source": [
        "from google.colab import files\n",
        "import pandas as pd\n",
        "uploaded = files.upload()"
      ]
    },
    {
      "cell_type": "code",
      "execution_count": 116,
      "metadata": {
        "colab": {
          "base_uri": "https://localhost:8080/"
        },
        "id": "-gE-Ez1qtyIA",
        "outputId": "9c222e68-45d6-446a-ff31-a3ea2d57eeaf"
      },
      "outputs": [
        {
          "output_type": "stream",
          "name": "stderr",
          "text": [
            "/usr/local/lib/python3.7/dist-packages/openpyxl/worksheet/_reader.py:312: UserWarning: Unknown extension is not supported and will be removed\n",
            "  warn(msg)\n"
          ]
        }
      ],
      "source": [
        "subject1 =pd.read_excel('Subject01.xlsx',index_col=None, header=None) \n",
        "subject2 =pd.read_excel('Subject02.xlsx',index_col=None, header=None) \n",
        "subject3 =pd.read_excel('Subject03.xlsx',index_col=None, header=None) \n",
        "subject4 =pd.read_excel('Subject04.xlsx',index_col=None, header=None) \n",
        "subject5 =pd.read_excel('Subject05.xlsx',index_col=None, header=None) \n",
        "subject6 =pd.read_excel('Subject06.xlsx',index_col=None, header=None) \n",
        "subject7 =pd.read_excel('Subject07.xlsx',index_col=None, header=None) \n",
        "subject8 =pd.read_excel('Subject08.xlsx',index_col=None, header=None) \n",
        "subject9 =pd.read_excel('Subject09.xlsx',index_col=None, header=None) \n",
        "subject10 =pd.read_excel('Subject10.xlsx',index_col=None, header=None) "
      ]
    },
    {
      "cell_type": "code",
      "source": [
        "subject4"
      ],
      "metadata": {
        "colab": {
          "base_uri": "https://localhost:8080/",
          "height": 424
        },
        "id": "qyDZE4GGeoCM",
        "outputId": "241a3814-bd3b-4db1-9e09-85ab60233c6b"
      },
      "execution_count": 117,
      "outputs": [
        {
          "output_type": "execute_result",
          "data": {
            "text/plain": [
              "                                  0      1\n",
              "0      2017-04-21T23:59:50.691-0700  122.0\n",
              "1      2017-04-21T23:54:49.908-0700  123.0\n",
              "2      2017-04-21T23:49:50.498-0700  124.0\n",
              "3      2017-04-21T23:44:50.618-0700  125.0\n",
              "4      2017-04-21T23:39:49.845-0700  126.0\n",
              "...                             ...    ...\n",
              "19146     2017-02-21T00:03:11-08:00    NaN\n",
              "19147     2017-02-21T00:03:11-08:00    NaN\n",
              "19148  2017-02-21T00:02:06.194-0800   93.0\n",
              "19149     2017-02-21T00:00:00-08:00    NaN\n",
              "19150     2017-02-21T00:00:00-08:00    NaN\n",
              "\n",
              "[19151 rows x 2 columns]"
            ],
            "text/html": [
              "\n",
              "  <div id=\"df-7cbd2cf8-251b-4f61-966f-0cd5da71f8b2\">\n",
              "    <div class=\"colab-df-container\">\n",
              "      <div>\n",
              "<style scoped>\n",
              "    .dataframe tbody tr th:only-of-type {\n",
              "        vertical-align: middle;\n",
              "    }\n",
              "\n",
              "    .dataframe tbody tr th {\n",
              "        vertical-align: top;\n",
              "    }\n",
              "\n",
              "    .dataframe thead th {\n",
              "        text-align: right;\n",
              "    }\n",
              "</style>\n",
              "<table border=\"1\" class=\"dataframe\">\n",
              "  <thead>\n",
              "    <tr style=\"text-align: right;\">\n",
              "      <th></th>\n",
              "      <th>0</th>\n",
              "      <th>1</th>\n",
              "    </tr>\n",
              "  </thead>\n",
              "  <tbody>\n",
              "    <tr>\n",
              "      <th>0</th>\n",
              "      <td>2017-04-21T23:59:50.691-0700</td>\n",
              "      <td>122.0</td>\n",
              "    </tr>\n",
              "    <tr>\n",
              "      <th>1</th>\n",
              "      <td>2017-04-21T23:54:49.908-0700</td>\n",
              "      <td>123.0</td>\n",
              "    </tr>\n",
              "    <tr>\n",
              "      <th>2</th>\n",
              "      <td>2017-04-21T23:49:50.498-0700</td>\n",
              "      <td>124.0</td>\n",
              "    </tr>\n",
              "    <tr>\n",
              "      <th>3</th>\n",
              "      <td>2017-04-21T23:44:50.618-0700</td>\n",
              "      <td>125.0</td>\n",
              "    </tr>\n",
              "    <tr>\n",
              "      <th>4</th>\n",
              "      <td>2017-04-21T23:39:49.845-0700</td>\n",
              "      <td>126.0</td>\n",
              "    </tr>\n",
              "    <tr>\n",
              "      <th>...</th>\n",
              "      <td>...</td>\n",
              "      <td>...</td>\n",
              "    </tr>\n",
              "    <tr>\n",
              "      <th>19146</th>\n",
              "      <td>2017-02-21T00:03:11-08:00</td>\n",
              "      <td>NaN</td>\n",
              "    </tr>\n",
              "    <tr>\n",
              "      <th>19147</th>\n",
              "      <td>2017-02-21T00:03:11-08:00</td>\n",
              "      <td>NaN</td>\n",
              "    </tr>\n",
              "    <tr>\n",
              "      <th>19148</th>\n",
              "      <td>2017-02-21T00:02:06.194-0800</td>\n",
              "      <td>93.0</td>\n",
              "    </tr>\n",
              "    <tr>\n",
              "      <th>19149</th>\n",
              "      <td>2017-02-21T00:00:00-08:00</td>\n",
              "      <td>NaN</td>\n",
              "    </tr>\n",
              "    <tr>\n",
              "      <th>19150</th>\n",
              "      <td>2017-02-21T00:00:00-08:00</td>\n",
              "      <td>NaN</td>\n",
              "    </tr>\n",
              "  </tbody>\n",
              "</table>\n",
              "<p>19151 rows × 2 columns</p>\n",
              "</div>\n",
              "      <button class=\"colab-df-convert\" onclick=\"convertToInteractive('df-7cbd2cf8-251b-4f61-966f-0cd5da71f8b2')\"\n",
              "              title=\"Convert this dataframe to an interactive table.\"\n",
              "              style=\"display:none;\">\n",
              "        \n",
              "  <svg xmlns=\"http://www.w3.org/2000/svg\" height=\"24px\"viewBox=\"0 0 24 24\"\n",
              "       width=\"24px\">\n",
              "    <path d=\"M0 0h24v24H0V0z\" fill=\"none\"/>\n",
              "    <path d=\"M18.56 5.44l.94 2.06.94-2.06 2.06-.94-2.06-.94-.94-2.06-.94 2.06-2.06.94zm-11 1L8.5 8.5l.94-2.06 2.06-.94-2.06-.94L8.5 2.5l-.94 2.06-2.06.94zm10 10l.94 2.06.94-2.06 2.06-.94-2.06-.94-.94-2.06-.94 2.06-2.06.94z\"/><path d=\"M17.41 7.96l-1.37-1.37c-.4-.4-.92-.59-1.43-.59-.52 0-1.04.2-1.43.59L10.3 9.45l-7.72 7.72c-.78.78-.78 2.05 0 2.83L4 21.41c.39.39.9.59 1.41.59.51 0 1.02-.2 1.41-.59l7.78-7.78 2.81-2.81c.8-.78.8-2.07 0-2.86zM5.41 20L4 18.59l7.72-7.72 1.47 1.35L5.41 20z\"/>\n",
              "  </svg>\n",
              "      </button>\n",
              "      \n",
              "  <style>\n",
              "    .colab-df-container {\n",
              "      display:flex;\n",
              "      flex-wrap:wrap;\n",
              "      gap: 12px;\n",
              "    }\n",
              "\n",
              "    .colab-df-convert {\n",
              "      background-color: #E8F0FE;\n",
              "      border: none;\n",
              "      border-radius: 50%;\n",
              "      cursor: pointer;\n",
              "      display: none;\n",
              "      fill: #1967D2;\n",
              "      height: 32px;\n",
              "      padding: 0 0 0 0;\n",
              "      width: 32px;\n",
              "    }\n",
              "\n",
              "    .colab-df-convert:hover {\n",
              "      background-color: #E2EBFA;\n",
              "      box-shadow: 0px 1px 2px rgba(60, 64, 67, 0.3), 0px 1px 3px 1px rgba(60, 64, 67, 0.15);\n",
              "      fill: #174EA6;\n",
              "    }\n",
              "\n",
              "    [theme=dark] .colab-df-convert {\n",
              "      background-color: #3B4455;\n",
              "      fill: #D2E3FC;\n",
              "    }\n",
              "\n",
              "    [theme=dark] .colab-df-convert:hover {\n",
              "      background-color: #434B5C;\n",
              "      box-shadow: 0px 1px 3px 1px rgba(0, 0, 0, 0.15);\n",
              "      filter: drop-shadow(0px 1px 2px rgba(0, 0, 0, 0.3));\n",
              "      fill: #FFFFFF;\n",
              "    }\n",
              "  </style>\n",
              "\n",
              "      <script>\n",
              "        const buttonEl =\n",
              "          document.querySelector('#df-7cbd2cf8-251b-4f61-966f-0cd5da71f8b2 button.colab-df-convert');\n",
              "        buttonEl.style.display =\n",
              "          google.colab.kernel.accessAllowed ? 'block' : 'none';\n",
              "\n",
              "        async function convertToInteractive(key) {\n",
              "          const element = document.querySelector('#df-7cbd2cf8-251b-4f61-966f-0cd5da71f8b2');\n",
              "          const dataTable =\n",
              "            await google.colab.kernel.invokeFunction('convertToInteractive',\n",
              "                                                     [key], {});\n",
              "          if (!dataTable) return;\n",
              "\n",
              "          const docLinkHtml = 'Like what you see? Visit the ' +\n",
              "            '<a target=\"_blank\" href=https://colab.research.google.com/notebooks/data_table.ipynb>data table notebook</a>'\n",
              "            + ' to learn more about interactive tables.';\n",
              "          element.innerHTML = '';\n",
              "          dataTable['output_type'] = 'display_data';\n",
              "          await google.colab.output.renderOutput(dataTable, element);\n",
              "          const docLink = document.createElement('div');\n",
              "          docLink.innerHTML = docLinkHtml;\n",
              "          element.appendChild(docLink);\n",
              "        }\n",
              "      </script>\n",
              "    </div>\n",
              "  </div>\n",
              "  "
            ]
          },
          "metadata": {},
          "execution_count": 117
        }
      ]
    },
    {
      "cell_type": "code",
      "source": [
        "subject4[0] = subject4[0].astype(str) \n",
        "subject4[\"time\"] = subject4[0].str[:19]\n",
        "subject4"
      ],
      "metadata": {
        "colab": {
          "base_uri": "https://localhost:8080/",
          "height": 424
        },
        "id": "0VIVDML-m9dr",
        "outputId": "ce5aa439-44ee-4b11-f63f-de4da8e30a28"
      },
      "execution_count": 118,
      "outputs": [
        {
          "output_type": "execute_result",
          "data": {
            "text/plain": [
              "                                  0      1                 time\n",
              "0      2017-04-21T23:59:50.691-0700  122.0  2017-04-21T23:59:50\n",
              "1      2017-04-21T23:54:49.908-0700  123.0  2017-04-21T23:54:49\n",
              "2      2017-04-21T23:49:50.498-0700  124.0  2017-04-21T23:49:50\n",
              "3      2017-04-21T23:44:50.618-0700  125.0  2017-04-21T23:44:50\n",
              "4      2017-04-21T23:39:49.845-0700  126.0  2017-04-21T23:39:49\n",
              "...                             ...    ...                  ...\n",
              "19146     2017-02-21T00:03:11-08:00    NaN  2017-02-21T00:03:11\n",
              "19147     2017-02-21T00:03:11-08:00    NaN  2017-02-21T00:03:11\n",
              "19148  2017-02-21T00:02:06.194-0800   93.0  2017-02-21T00:02:06\n",
              "19149     2017-02-21T00:00:00-08:00    NaN  2017-02-21T00:00:00\n",
              "19150     2017-02-21T00:00:00-08:00    NaN  2017-02-21T00:00:00\n",
              "\n",
              "[19151 rows x 3 columns]"
            ],
            "text/html": [
              "\n",
              "  <div id=\"df-4f9ca753-a5aa-4ab1-8b95-ec8da881f7a5\">\n",
              "    <div class=\"colab-df-container\">\n",
              "      <div>\n",
              "<style scoped>\n",
              "    .dataframe tbody tr th:only-of-type {\n",
              "        vertical-align: middle;\n",
              "    }\n",
              "\n",
              "    .dataframe tbody tr th {\n",
              "        vertical-align: top;\n",
              "    }\n",
              "\n",
              "    .dataframe thead th {\n",
              "        text-align: right;\n",
              "    }\n",
              "</style>\n",
              "<table border=\"1\" class=\"dataframe\">\n",
              "  <thead>\n",
              "    <tr style=\"text-align: right;\">\n",
              "      <th></th>\n",
              "      <th>0</th>\n",
              "      <th>1</th>\n",
              "      <th>time</th>\n",
              "    </tr>\n",
              "  </thead>\n",
              "  <tbody>\n",
              "    <tr>\n",
              "      <th>0</th>\n",
              "      <td>2017-04-21T23:59:50.691-0700</td>\n",
              "      <td>122.0</td>\n",
              "      <td>2017-04-21T23:59:50</td>\n",
              "    </tr>\n",
              "    <tr>\n",
              "      <th>1</th>\n",
              "      <td>2017-04-21T23:54:49.908-0700</td>\n",
              "      <td>123.0</td>\n",
              "      <td>2017-04-21T23:54:49</td>\n",
              "    </tr>\n",
              "    <tr>\n",
              "      <th>2</th>\n",
              "      <td>2017-04-21T23:49:50.498-0700</td>\n",
              "      <td>124.0</td>\n",
              "      <td>2017-04-21T23:49:50</td>\n",
              "    </tr>\n",
              "    <tr>\n",
              "      <th>3</th>\n",
              "      <td>2017-04-21T23:44:50.618-0700</td>\n",
              "      <td>125.0</td>\n",
              "      <td>2017-04-21T23:44:50</td>\n",
              "    </tr>\n",
              "    <tr>\n",
              "      <th>4</th>\n",
              "      <td>2017-04-21T23:39:49.845-0700</td>\n",
              "      <td>126.0</td>\n",
              "      <td>2017-04-21T23:39:49</td>\n",
              "    </tr>\n",
              "    <tr>\n",
              "      <th>...</th>\n",
              "      <td>...</td>\n",
              "      <td>...</td>\n",
              "      <td>...</td>\n",
              "    </tr>\n",
              "    <tr>\n",
              "      <th>19146</th>\n",
              "      <td>2017-02-21T00:03:11-08:00</td>\n",
              "      <td>NaN</td>\n",
              "      <td>2017-02-21T00:03:11</td>\n",
              "    </tr>\n",
              "    <tr>\n",
              "      <th>19147</th>\n",
              "      <td>2017-02-21T00:03:11-08:00</td>\n",
              "      <td>NaN</td>\n",
              "      <td>2017-02-21T00:03:11</td>\n",
              "    </tr>\n",
              "    <tr>\n",
              "      <th>19148</th>\n",
              "      <td>2017-02-21T00:02:06.194-0800</td>\n",
              "      <td>93.0</td>\n",
              "      <td>2017-02-21T00:02:06</td>\n",
              "    </tr>\n",
              "    <tr>\n",
              "      <th>19149</th>\n",
              "      <td>2017-02-21T00:00:00-08:00</td>\n",
              "      <td>NaN</td>\n",
              "      <td>2017-02-21T00:00:00</td>\n",
              "    </tr>\n",
              "    <tr>\n",
              "      <th>19150</th>\n",
              "      <td>2017-02-21T00:00:00-08:00</td>\n",
              "      <td>NaN</td>\n",
              "      <td>2017-02-21T00:00:00</td>\n",
              "    </tr>\n",
              "  </tbody>\n",
              "</table>\n",
              "<p>19151 rows × 3 columns</p>\n",
              "</div>\n",
              "      <button class=\"colab-df-convert\" onclick=\"convertToInteractive('df-4f9ca753-a5aa-4ab1-8b95-ec8da881f7a5')\"\n",
              "              title=\"Convert this dataframe to an interactive table.\"\n",
              "              style=\"display:none;\">\n",
              "        \n",
              "  <svg xmlns=\"http://www.w3.org/2000/svg\" height=\"24px\"viewBox=\"0 0 24 24\"\n",
              "       width=\"24px\">\n",
              "    <path d=\"M0 0h24v24H0V0z\" fill=\"none\"/>\n",
              "    <path d=\"M18.56 5.44l.94 2.06.94-2.06 2.06-.94-2.06-.94-.94-2.06-.94 2.06-2.06.94zm-11 1L8.5 8.5l.94-2.06 2.06-.94-2.06-.94L8.5 2.5l-.94 2.06-2.06.94zm10 10l.94 2.06.94-2.06 2.06-.94-2.06-.94-.94-2.06-.94 2.06-2.06.94z\"/><path d=\"M17.41 7.96l-1.37-1.37c-.4-.4-.92-.59-1.43-.59-.52 0-1.04.2-1.43.59L10.3 9.45l-7.72 7.72c-.78.78-.78 2.05 0 2.83L4 21.41c.39.39.9.59 1.41.59.51 0 1.02-.2 1.41-.59l7.78-7.78 2.81-2.81c.8-.78.8-2.07 0-2.86zM5.41 20L4 18.59l7.72-7.72 1.47 1.35L5.41 20z\"/>\n",
              "  </svg>\n",
              "      </button>\n",
              "      \n",
              "  <style>\n",
              "    .colab-df-container {\n",
              "      display:flex;\n",
              "      flex-wrap:wrap;\n",
              "      gap: 12px;\n",
              "    }\n",
              "\n",
              "    .colab-df-convert {\n",
              "      background-color: #E8F0FE;\n",
              "      border: none;\n",
              "      border-radius: 50%;\n",
              "      cursor: pointer;\n",
              "      display: none;\n",
              "      fill: #1967D2;\n",
              "      height: 32px;\n",
              "      padding: 0 0 0 0;\n",
              "      width: 32px;\n",
              "    }\n",
              "\n",
              "    .colab-df-convert:hover {\n",
              "      background-color: #E2EBFA;\n",
              "      box-shadow: 0px 1px 2px rgba(60, 64, 67, 0.3), 0px 1px 3px 1px rgba(60, 64, 67, 0.15);\n",
              "      fill: #174EA6;\n",
              "    }\n",
              "\n",
              "    [theme=dark] .colab-df-convert {\n",
              "      background-color: #3B4455;\n",
              "      fill: #D2E3FC;\n",
              "    }\n",
              "\n",
              "    [theme=dark] .colab-df-convert:hover {\n",
              "      background-color: #434B5C;\n",
              "      box-shadow: 0px 1px 3px 1px rgba(0, 0, 0, 0.15);\n",
              "      filter: drop-shadow(0px 1px 2px rgba(0, 0, 0, 0.3));\n",
              "      fill: #FFFFFF;\n",
              "    }\n",
              "  </style>\n",
              "\n",
              "      <script>\n",
              "        const buttonEl =\n",
              "          document.querySelector('#df-4f9ca753-a5aa-4ab1-8b95-ec8da881f7a5 button.colab-df-convert');\n",
              "        buttonEl.style.display =\n",
              "          google.colab.kernel.accessAllowed ? 'block' : 'none';\n",
              "\n",
              "        async function convertToInteractive(key) {\n",
              "          const element = document.querySelector('#df-4f9ca753-a5aa-4ab1-8b95-ec8da881f7a5');\n",
              "          const dataTable =\n",
              "            await google.colab.kernel.invokeFunction('convertToInteractive',\n",
              "                                                     [key], {});\n",
              "          if (!dataTable) return;\n",
              "\n",
              "          const docLinkHtml = 'Like what you see? Visit the ' +\n",
              "            '<a target=\"_blank\" href=https://colab.research.google.com/notebooks/data_table.ipynb>data table notebook</a>'\n",
              "            + ' to learn more about interactive tables.';\n",
              "          element.innerHTML = '';\n",
              "          dataTable['output_type'] = 'display_data';\n",
              "          await google.colab.output.renderOutput(dataTable, element);\n",
              "          const docLink = document.createElement('div');\n",
              "          docLink.innerHTML = docLinkHtml;\n",
              "          element.appendChild(docLink);\n",
              "        }\n",
              "      </script>\n",
              "    </div>\n",
              "  </div>\n",
              "  "
            ]
          },
          "metadata": {},
          "execution_count": 118
        }
      ]
    },
    {
      "cell_type": "markdown",
      "source": [
        "##1.\n",
        " What is the sampling rate of the device used for data collection? You must \n",
        "use the full dataset to determine this and provide a visualization that supports \n",
        "your findings. "
      ],
      "metadata": {
        "id": "l8CW94yUXFh0"
      }
    },
    {
      "cell_type": "code",
      "execution_count": 119,
      "metadata": {
        "id": "C4HZx7Gndbrh"
      },
      "outputs": [],
      "source": [
        "\n",
        "subject1[0] = subject1[0].apply(pd.to_datetime)\n",
        "rating1=(max(subject1[0])-min(subject1[0]))/(subject1.shape[0])\n",
        "subject2[0] = subject2[0].apply(pd.to_datetime)\n",
        "rating2=(max(subject2[0])-min(subject2[0]))/(subject2.shape[0])\n",
        "subject3[0] = subject3[0].apply(pd.to_datetime)\n",
        "rating3=(max(subject3[0])-min(subject3[0]))/(subject3.shape[0])\n",
        "subject4[\"time\"] = subject4[\"time\"].apply(pd.to_datetime)\n",
        "rating4=(max(subject4[\"time\"])-min(subject4[\"time\"]))/(subject4.shape[0])\n",
        "subject5[0] = subject5[0].apply(pd.to_datetime)\n",
        "rating5=(max(subject5[0])-min(subject5[0]))/(subject5.shape[0])\n",
        "subject6[0] = subject6[0].apply(pd.to_datetime)\n",
        "rating6=(max(subject6[0])-min(subject6[0]))/(subject6.shape[0])\n",
        "subject7[0] = subject7[0].apply(pd.to_datetime)\n",
        "rating7=(max(subject7[0])-min(subject7[0]))/(subject7.shape[0])\n",
        "subject8[0] = subject8[0].apply(pd.to_datetime)\n",
        "rating8=(max(subject8[0])-min(subject8[0]))/(subject8.shape[0])\n",
        "subject9[0] = subject9[0].apply(pd.to_datetime)\n",
        "rating9=(max(subject9[0])-min(subject9[0]))/(subject9.shape[0])\n",
        "subject10[0] = subject10[0].apply(pd.to_datetime)\n",
        "rating10=(max(subject10[0])-min(subject10[0]))/(subject10.shape[0])\n",
        "\n"
      ]
    },
    {
      "cell_type": "code",
      "source": [
        "print(\"the average sampling rate for the first subject is\",rating1,sep=\":\")\n",
        "print(\"the average sampling rate for the second subject is\",rating2,sep=\":\")\n",
        "print(\"the average sampling rate for the three subject is\",rating3,sep=\":\")\n",
        "print(\"the average sampling rate for the four subject is\",rating4,sep=\":\")\n",
        "print(\"the average sampling rate for the five subject is\",rating5,sep=\":\")\n",
        "print(\"the average sampling rate for the six subject is\",rating6,sep=\":\")\n",
        "print(\"the average sampling rate for the seven subject is\",rating7,sep=\":\")\n",
        "print(\"the average sampling rate for the eight subject is\",rating8,sep=\":\")\n",
        "print(\"the average sampling rate for the nine subject is\",rating9,sep=\":\")\n",
        "print(\"the average sampling rate for the ten subject is\",rating10,sep=\":\")\n"
      ],
      "metadata": {
        "colab": {
          "base_uri": "https://localhost:8080/"
        },
        "id": "Cls2fhVxeMko",
        "outputId": "1fffbff2-1f50-40fa-ba27-c14ef659dc14"
      },
      "execution_count": 120,
      "outputs": [
        {
          "output_type": "stream",
          "name": "stdout",
          "text": [
            "the average sampling rate for the first subject is:0 days 00:05:21.602907285\n",
            "the average sampling rate for the second subject is:0 days 00:06:10.341983253\n",
            "the average sampling rate for the three subject is:0 days 00:06:07.451265280\n",
            "the average sampling rate for the four subject is:0 days 00:04:30.690303378\n",
            "the average sampling rate for the five subject is:0 days 00:06:44.981702901\n",
            "the average sampling rate for the six subject is:0 days 00:05:48.802682990\n",
            "the average sampling rate for the seven subject is:0 days 00:07:43.708102493\n",
            "the average sampling rate for the eight subject is:0 days 00:05:20.037769546\n",
            "the average sampling rate for the nine subject is:0 days 00:04:08.611796890\n",
            "the average sampling rate for the ten subject is:0 days 00:05:11.770385891\n"
          ]
        }
      ]
    },
    {
      "cell_type": "code",
      "source": [
        "import pandas as pd\n",
        "import matplotlib.pyplot as plt\n",
        "from matplotlib.dates import DateFormatter, date2num\n",
        "list = [rating1,rating2,rating3,rating4,rating5,rating6,rating7,rating8,rating9,rating10]\n",
        "df = pd.DataFrame (list, columns = ['seconds'])\n",
        "\n",
        "df\n"
      ],
      "metadata": {
        "colab": {
          "base_uri": "https://localhost:8080/",
          "height": 363
        },
        "id": "R88o1ai0onlQ",
        "outputId": "b33ac078-0e18-4faa-c42d-66127ad086c8"
      },
      "execution_count": 121,
      "outputs": [
        {
          "output_type": "execute_result",
          "data": {
            "text/plain": [
              "                    seconds\n",
              "0 0 days 00:05:21.602907285\n",
              "1 0 days 00:06:10.341983253\n",
              "2 0 days 00:06:07.451265280\n",
              "3 0 days 00:04:30.690303378\n",
              "4 0 days 00:06:44.981702901\n",
              "5 0 days 00:05:48.802682990\n",
              "6 0 days 00:07:43.708102493\n",
              "7 0 days 00:05:20.037769546\n",
              "8 0 days 00:04:08.611796890\n",
              "9 0 days 00:05:11.770385891"
            ],
            "text/html": [
              "\n",
              "  <div id=\"df-75b2004e-f16d-4599-9743-cc5c4fa3f3ba\">\n",
              "    <div class=\"colab-df-container\">\n",
              "      <div>\n",
              "<style scoped>\n",
              "    .dataframe tbody tr th:only-of-type {\n",
              "        vertical-align: middle;\n",
              "    }\n",
              "\n",
              "    .dataframe tbody tr th {\n",
              "        vertical-align: top;\n",
              "    }\n",
              "\n",
              "    .dataframe thead th {\n",
              "        text-align: right;\n",
              "    }\n",
              "</style>\n",
              "<table border=\"1\" class=\"dataframe\">\n",
              "  <thead>\n",
              "    <tr style=\"text-align: right;\">\n",
              "      <th></th>\n",
              "      <th>seconds</th>\n",
              "    </tr>\n",
              "  </thead>\n",
              "  <tbody>\n",
              "    <tr>\n",
              "      <th>0</th>\n",
              "      <td>0 days 00:05:21.602907285</td>\n",
              "    </tr>\n",
              "    <tr>\n",
              "      <th>1</th>\n",
              "      <td>0 days 00:06:10.341983253</td>\n",
              "    </tr>\n",
              "    <tr>\n",
              "      <th>2</th>\n",
              "      <td>0 days 00:06:07.451265280</td>\n",
              "    </tr>\n",
              "    <tr>\n",
              "      <th>3</th>\n",
              "      <td>0 days 00:04:30.690303378</td>\n",
              "    </tr>\n",
              "    <tr>\n",
              "      <th>4</th>\n",
              "      <td>0 days 00:06:44.981702901</td>\n",
              "    </tr>\n",
              "    <tr>\n",
              "      <th>5</th>\n",
              "      <td>0 days 00:05:48.802682990</td>\n",
              "    </tr>\n",
              "    <tr>\n",
              "      <th>6</th>\n",
              "      <td>0 days 00:07:43.708102493</td>\n",
              "    </tr>\n",
              "    <tr>\n",
              "      <th>7</th>\n",
              "      <td>0 days 00:05:20.037769546</td>\n",
              "    </tr>\n",
              "    <tr>\n",
              "      <th>8</th>\n",
              "      <td>0 days 00:04:08.611796890</td>\n",
              "    </tr>\n",
              "    <tr>\n",
              "      <th>9</th>\n",
              "      <td>0 days 00:05:11.770385891</td>\n",
              "    </tr>\n",
              "  </tbody>\n",
              "</table>\n",
              "</div>\n",
              "      <button class=\"colab-df-convert\" onclick=\"convertToInteractive('df-75b2004e-f16d-4599-9743-cc5c4fa3f3ba')\"\n",
              "              title=\"Convert this dataframe to an interactive table.\"\n",
              "              style=\"display:none;\">\n",
              "        \n",
              "  <svg xmlns=\"http://www.w3.org/2000/svg\" height=\"24px\"viewBox=\"0 0 24 24\"\n",
              "       width=\"24px\">\n",
              "    <path d=\"M0 0h24v24H0V0z\" fill=\"none\"/>\n",
              "    <path d=\"M18.56 5.44l.94 2.06.94-2.06 2.06-.94-2.06-.94-.94-2.06-.94 2.06-2.06.94zm-11 1L8.5 8.5l.94-2.06 2.06-.94-2.06-.94L8.5 2.5l-.94 2.06-2.06.94zm10 10l.94 2.06.94-2.06 2.06-.94-2.06-.94-.94-2.06-.94 2.06-2.06.94z\"/><path d=\"M17.41 7.96l-1.37-1.37c-.4-.4-.92-.59-1.43-.59-.52 0-1.04.2-1.43.59L10.3 9.45l-7.72 7.72c-.78.78-.78 2.05 0 2.83L4 21.41c.39.39.9.59 1.41.59.51 0 1.02-.2 1.41-.59l7.78-7.78 2.81-2.81c.8-.78.8-2.07 0-2.86zM5.41 20L4 18.59l7.72-7.72 1.47 1.35L5.41 20z\"/>\n",
              "  </svg>\n",
              "      </button>\n",
              "      \n",
              "  <style>\n",
              "    .colab-df-container {\n",
              "      display:flex;\n",
              "      flex-wrap:wrap;\n",
              "      gap: 12px;\n",
              "    }\n",
              "\n",
              "    .colab-df-convert {\n",
              "      background-color: #E8F0FE;\n",
              "      border: none;\n",
              "      border-radius: 50%;\n",
              "      cursor: pointer;\n",
              "      display: none;\n",
              "      fill: #1967D2;\n",
              "      height: 32px;\n",
              "      padding: 0 0 0 0;\n",
              "      width: 32px;\n",
              "    }\n",
              "\n",
              "    .colab-df-convert:hover {\n",
              "      background-color: #E2EBFA;\n",
              "      box-shadow: 0px 1px 2px rgba(60, 64, 67, 0.3), 0px 1px 3px 1px rgba(60, 64, 67, 0.15);\n",
              "      fill: #174EA6;\n",
              "    }\n",
              "\n",
              "    [theme=dark] .colab-df-convert {\n",
              "      background-color: #3B4455;\n",
              "      fill: #D2E3FC;\n",
              "    }\n",
              "\n",
              "    [theme=dark] .colab-df-convert:hover {\n",
              "      background-color: #434B5C;\n",
              "      box-shadow: 0px 1px 3px 1px rgba(0, 0, 0, 0.15);\n",
              "      filter: drop-shadow(0px 1px 2px rgba(0, 0, 0, 0.3));\n",
              "      fill: #FFFFFF;\n",
              "    }\n",
              "  </style>\n",
              "\n",
              "      <script>\n",
              "        const buttonEl =\n",
              "          document.querySelector('#df-75b2004e-f16d-4599-9743-cc5c4fa3f3ba button.colab-df-convert');\n",
              "        buttonEl.style.display =\n",
              "          google.colab.kernel.accessAllowed ? 'block' : 'none';\n",
              "\n",
              "        async function convertToInteractive(key) {\n",
              "          const element = document.querySelector('#df-75b2004e-f16d-4599-9743-cc5c4fa3f3ba');\n",
              "          const dataTable =\n",
              "            await google.colab.kernel.invokeFunction('convertToInteractive',\n",
              "                                                     [key], {});\n",
              "          if (!dataTable) return;\n",
              "\n",
              "          const docLinkHtml = 'Like what you see? Visit the ' +\n",
              "            '<a target=\"_blank\" href=https://colab.research.google.com/notebooks/data_table.ipynb>data table notebook</a>'\n",
              "            + ' to learn more about interactive tables.';\n",
              "          element.innerHTML = '';\n",
              "          dataTable['output_type'] = 'display_data';\n",
              "          await google.colab.output.renderOutput(dataTable, element);\n",
              "          const docLink = document.createElement('div');\n",
              "          docLink.innerHTML = docLinkHtml;\n",
              "          element.appendChild(docLink);\n",
              "        }\n",
              "      </script>\n",
              "    </div>\n",
              "  </div>\n",
              "  "
            ]
          },
          "metadata": {},
          "execution_count": 121
        }
      ]
    },
    {
      "cell_type": "code",
      "source": [
        "df[\"seconds\"] = df[\"seconds\"].astype(str) \n",
        "\n",
        "df[\"time\"] = df[\"seconds\"].str[10:15]\n",
        "df[\"second\"]= df[\"time\"].str[3:5]\n",
        "df[\"minute\"]=df[\"time\"].str[0:2]\n",
        "df[\"minute\"]=df[\"minute\"].astype(int)*60\n",
        "df[\"total seconds\"] = df[\"minute\"]+df[\"second\"].astype(int)\n",
        "\n",
        "df"
      ],
      "metadata": {
        "colab": {
          "base_uri": "https://localhost:8080/",
          "height": 363
        },
        "id": "wGpYt8AswGZf",
        "outputId": "c85f93b8-256b-465e-d073-80bac06e29e6"
      },
      "execution_count": 17,
      "outputs": [
        {
          "output_type": "execute_result",
          "data": {
            "text/plain": [
              "                     seconds   time second  minute  total seconds\n",
              "0  0 days 00:05:21.602907285  05:21     21     300            321\n",
              "1  0 days 00:06:10.341983253  06:10     10     360            370\n",
              "2  0 days 00:06:07.451265280  06:07     07     360            367\n",
              "3  0 days 00:04:30.690303378  04:30     30     240            270\n",
              "4  0 days 00:06:44.981702901  06:44     44     360            404\n",
              "5  0 days 00:05:48.802682990  05:48     48     300            348\n",
              "6  0 days 00:07:43.708102493  07:43     43     420            463\n",
              "7  0 days 00:05:20.037769546  05:20     20     300            320\n",
              "8  0 days 00:04:08.611796890  04:08     08     240            248\n",
              "9  0 days 00:05:11.770385891  05:11     11     300            311"
            ],
            "text/html": [
              "\n",
              "  <div id=\"df-13246b67-c2f6-4c29-8143-b37b313fb1f3\">\n",
              "    <div class=\"colab-df-container\">\n",
              "      <div>\n",
              "<style scoped>\n",
              "    .dataframe tbody tr th:only-of-type {\n",
              "        vertical-align: middle;\n",
              "    }\n",
              "\n",
              "    .dataframe tbody tr th {\n",
              "        vertical-align: top;\n",
              "    }\n",
              "\n",
              "    .dataframe thead th {\n",
              "        text-align: right;\n",
              "    }\n",
              "</style>\n",
              "<table border=\"1\" class=\"dataframe\">\n",
              "  <thead>\n",
              "    <tr style=\"text-align: right;\">\n",
              "      <th></th>\n",
              "      <th>seconds</th>\n",
              "      <th>time</th>\n",
              "      <th>second</th>\n",
              "      <th>minute</th>\n",
              "      <th>total seconds</th>\n",
              "    </tr>\n",
              "  </thead>\n",
              "  <tbody>\n",
              "    <tr>\n",
              "      <th>0</th>\n",
              "      <td>0 days 00:05:21.602907285</td>\n",
              "      <td>05:21</td>\n",
              "      <td>21</td>\n",
              "      <td>300</td>\n",
              "      <td>321</td>\n",
              "    </tr>\n",
              "    <tr>\n",
              "      <th>1</th>\n",
              "      <td>0 days 00:06:10.341983253</td>\n",
              "      <td>06:10</td>\n",
              "      <td>10</td>\n",
              "      <td>360</td>\n",
              "      <td>370</td>\n",
              "    </tr>\n",
              "    <tr>\n",
              "      <th>2</th>\n",
              "      <td>0 days 00:06:07.451265280</td>\n",
              "      <td>06:07</td>\n",
              "      <td>07</td>\n",
              "      <td>360</td>\n",
              "      <td>367</td>\n",
              "    </tr>\n",
              "    <tr>\n",
              "      <th>3</th>\n",
              "      <td>0 days 00:04:30.690303378</td>\n",
              "      <td>04:30</td>\n",
              "      <td>30</td>\n",
              "      <td>240</td>\n",
              "      <td>270</td>\n",
              "    </tr>\n",
              "    <tr>\n",
              "      <th>4</th>\n",
              "      <td>0 days 00:06:44.981702901</td>\n",
              "      <td>06:44</td>\n",
              "      <td>44</td>\n",
              "      <td>360</td>\n",
              "      <td>404</td>\n",
              "    </tr>\n",
              "    <tr>\n",
              "      <th>5</th>\n",
              "      <td>0 days 00:05:48.802682990</td>\n",
              "      <td>05:48</td>\n",
              "      <td>48</td>\n",
              "      <td>300</td>\n",
              "      <td>348</td>\n",
              "    </tr>\n",
              "    <tr>\n",
              "      <th>6</th>\n",
              "      <td>0 days 00:07:43.708102493</td>\n",
              "      <td>07:43</td>\n",
              "      <td>43</td>\n",
              "      <td>420</td>\n",
              "      <td>463</td>\n",
              "    </tr>\n",
              "    <tr>\n",
              "      <th>7</th>\n",
              "      <td>0 days 00:05:20.037769546</td>\n",
              "      <td>05:20</td>\n",
              "      <td>20</td>\n",
              "      <td>300</td>\n",
              "      <td>320</td>\n",
              "    </tr>\n",
              "    <tr>\n",
              "      <th>8</th>\n",
              "      <td>0 days 00:04:08.611796890</td>\n",
              "      <td>04:08</td>\n",
              "      <td>08</td>\n",
              "      <td>240</td>\n",
              "      <td>248</td>\n",
              "    </tr>\n",
              "    <tr>\n",
              "      <th>9</th>\n",
              "      <td>0 days 00:05:11.770385891</td>\n",
              "      <td>05:11</td>\n",
              "      <td>11</td>\n",
              "      <td>300</td>\n",
              "      <td>311</td>\n",
              "    </tr>\n",
              "  </tbody>\n",
              "</table>\n",
              "</div>\n",
              "      <button class=\"colab-df-convert\" onclick=\"convertToInteractive('df-13246b67-c2f6-4c29-8143-b37b313fb1f3')\"\n",
              "              title=\"Convert this dataframe to an interactive table.\"\n",
              "              style=\"display:none;\">\n",
              "        \n",
              "  <svg xmlns=\"http://www.w3.org/2000/svg\" height=\"24px\"viewBox=\"0 0 24 24\"\n",
              "       width=\"24px\">\n",
              "    <path d=\"M0 0h24v24H0V0z\" fill=\"none\"/>\n",
              "    <path d=\"M18.56 5.44l.94 2.06.94-2.06 2.06-.94-2.06-.94-.94-2.06-.94 2.06-2.06.94zm-11 1L8.5 8.5l.94-2.06 2.06-.94-2.06-.94L8.5 2.5l-.94 2.06-2.06.94zm10 10l.94 2.06.94-2.06 2.06-.94-2.06-.94-.94-2.06-.94 2.06-2.06.94z\"/><path d=\"M17.41 7.96l-1.37-1.37c-.4-.4-.92-.59-1.43-.59-.52 0-1.04.2-1.43.59L10.3 9.45l-7.72 7.72c-.78.78-.78 2.05 0 2.83L4 21.41c.39.39.9.59 1.41.59.51 0 1.02-.2 1.41-.59l7.78-7.78 2.81-2.81c.8-.78.8-2.07 0-2.86zM5.41 20L4 18.59l7.72-7.72 1.47 1.35L5.41 20z\"/>\n",
              "  </svg>\n",
              "      </button>\n",
              "      \n",
              "  <style>\n",
              "    .colab-df-container {\n",
              "      display:flex;\n",
              "      flex-wrap:wrap;\n",
              "      gap: 12px;\n",
              "    }\n",
              "\n",
              "    .colab-df-convert {\n",
              "      background-color: #E8F0FE;\n",
              "      border: none;\n",
              "      border-radius: 50%;\n",
              "      cursor: pointer;\n",
              "      display: none;\n",
              "      fill: #1967D2;\n",
              "      height: 32px;\n",
              "      padding: 0 0 0 0;\n",
              "      width: 32px;\n",
              "    }\n",
              "\n",
              "    .colab-df-convert:hover {\n",
              "      background-color: #E2EBFA;\n",
              "      box-shadow: 0px 1px 2px rgba(60, 64, 67, 0.3), 0px 1px 3px 1px rgba(60, 64, 67, 0.15);\n",
              "      fill: #174EA6;\n",
              "    }\n",
              "\n",
              "    [theme=dark] .colab-df-convert {\n",
              "      background-color: #3B4455;\n",
              "      fill: #D2E3FC;\n",
              "    }\n",
              "\n",
              "    [theme=dark] .colab-df-convert:hover {\n",
              "      background-color: #434B5C;\n",
              "      box-shadow: 0px 1px 3px 1px rgba(0, 0, 0, 0.15);\n",
              "      filter: drop-shadow(0px 1px 2px rgba(0, 0, 0, 0.3));\n",
              "      fill: #FFFFFF;\n",
              "    }\n",
              "  </style>\n",
              "\n",
              "      <script>\n",
              "        const buttonEl =\n",
              "          document.querySelector('#df-13246b67-c2f6-4c29-8143-b37b313fb1f3 button.colab-df-convert');\n",
              "        buttonEl.style.display =\n",
              "          google.colab.kernel.accessAllowed ? 'block' : 'none';\n",
              "\n",
              "        async function convertToInteractive(key) {\n",
              "          const element = document.querySelector('#df-13246b67-c2f6-4c29-8143-b37b313fb1f3');\n",
              "          const dataTable =\n",
              "            await google.colab.kernel.invokeFunction('convertToInteractive',\n",
              "                                                     [key], {});\n",
              "          if (!dataTable) return;\n",
              "\n",
              "          const docLinkHtml = 'Like what you see? Visit the ' +\n",
              "            '<a target=\"_blank\" href=https://colab.research.google.com/notebooks/data_table.ipynb>data table notebook</a>'\n",
              "            + ' to learn more about interactive tables.';\n",
              "          element.innerHTML = '';\n",
              "          dataTable['output_type'] = 'display_data';\n",
              "          await google.colab.output.renderOutput(dataTable, element);\n",
              "          const docLink = document.createElement('div');\n",
              "          docLink.innerHTML = docLinkHtml;\n",
              "          element.appendChild(docLink);\n",
              "        }\n",
              "      </script>\n",
              "    </div>\n",
              "  </div>\n",
              "  "
            ]
          },
          "metadata": {},
          "execution_count": 17
        }
      ]
    },
    {
      "cell_type": "code",
      "source": [
        "df[\"total seconds\"].plot()"
      ],
      "metadata": {
        "colab": {
          "base_uri": "https://localhost:8080/",
          "height": 282
        },
        "id": "_1Lh2Ckqzk67",
        "outputId": "094ae31a-6fbc-4e2f-bd3d-1fd45d91fe94"
      },
      "execution_count": 18,
      "outputs": [
        {
          "output_type": "execute_result",
          "data": {
            "text/plain": [
              "<matplotlib.axes._subplots.AxesSubplot at 0x7fd11f75af50>"
            ]
          },
          "metadata": {},
          "execution_count": 18
        },
        {
          "output_type": "display_data",
          "data": {
            "text/plain": [
              "<Figure size 432x288 with 1 Axes>"
            ],
            "image/png": "[encoded data removed]"
          },
          "metadata": {
            "needs_background": "light"
          }
        }
      ]
    },
    {
      "cell_type": "code",
      "source": [
        "#we can see from the plot that the sampling rating is not stable and reach its minimum in subject 9 which is 4:08,total of 248 seconds\n",
        "#while the maximum will be subject 7 which is 7:43,total of 463 seconds.\n",
        "#I think based on this, the average sampling rating will be around 5 minutes."
      ],
      "metadata": {
        "id": "0d6BD67izpUV"
      },
      "execution_count": 19,
      "outputs": []
    },
    {
      "cell_type": "markdown",
      "source": [
        "##2.\n",
        "Estimate the amount of missing data present per subject. Show results visually \n",
        "in a figure. "
      ],
      "metadata": {
        "id": "qd6bX5IX0rrT"
      }
    },
    {
      "cell_type": "code",
      "source": [
        "from matplotlib import pyplot as plt\n",
        "#for subject1, the sampling rate is 5:21,the duration is from 2016-12-08 00:07:05 to 2017-02-08 23:55:11 and record 16923 times,\n",
        "print(max(subject1[0]))\n",
        "print(min(subject1[0]))\n",
        "print(subject1.shape[0])\n",
        "\n",
        "\n",
        "\n",
        "duration1 = max(subject1[0])-min(subject1[0])\n",
        "print(duration1)\n",
        "print((62*24*60+23*60+48)/5)\n",
        "#our sampling rating is 5 mins, so we are supposed to record 18142 times,\n",
        "missing1 = 18142-16923\n",
        "missing1\n",
        "\n",
        "list1 = [16923,18142]\n",
        "list2 = [1,2]\n",
        "plt.bar(list2, list1)\n",
        "plt.show()\n",
        "print(\"in subject 1, there are missing data of\",missing1,sep=':')"
      ],
      "metadata": {
        "colab": {
          "base_uri": "https://localhost:8080/",
          "height": 369
        },
        "id": "A8JS5WW800bF",
        "outputId": "030d99b3-f1e8-450b-de86-e847b8c5d265"
      },
      "execution_count": 20,
      "outputs": [
        {
          "output_type": "stream",
          "name": "stdout",
          "text": [
            "2017-02-08 23:55:11+00:00\n",
            "2016-12-08 00:07:05+00:00\n",
            "16923\n",
            "62 days 23:48:06\n",
            "18141.6\n"
          ]
        },
        {
          "output_type": "display_data",
          "data": {
            "text/plain": [
              "<Figure size 432x288 with 1 Axes>"
            ],
            "image/png": "[encoded data removed]"
          },
          "metadata": {
            "needs_background": "light"
          }
        },
        {
          "output_type": "stream",
          "name": "stdout",
          "text": [
            "in subject 1, there are missing data of:1219\n"
          ]
        }
      ]
    },
    {
      "cell_type": "code",
      "source": [
        "#for subject2, the sampling rate is 6:10,the duration is from 2017-06-19 01:21:18 to  2017-08-19 23:58:10 and record 14451 times,\n",
        "print(max(subject2[0]))\n",
        "print(min(subject2[0]))\n",
        "print(subject2.shape[0])\n",
        "\n",
        "\n",
        "duration2 = max(subject2[0])-min(subject2[0])\n",
        "print(duration2)\n",
        "print((61*24*60+22*60+36)/5)\n",
        "#our sampling rating is 5 mins, so we are supposed to record 17839 times,\n",
        "missing2 = 17840-14451\n",
        "missing2\n",
        "\n",
        "list3 = [14451,17840]\n",
        "list2 = [1,2]\n",
        "plt.bar(list2, list3)\n",
        "plt.show()\n",
        "print(\"in subject 2, there are missing data of\",missing2,sep=':')"
      ],
      "metadata": {
        "colab": {
          "base_uri": "https://localhost:8080/",
          "height": 369
        },
        "id": "ZUv0FVab5H8s",
        "outputId": "8daea236-020d-490d-dfd5-ee896e871458"
      },
      "execution_count": 21,
      "outputs": [
        {
          "output_type": "stream",
          "name": "stdout",
          "text": [
            "2017-08-19 23:58:10+00:00\n",
            "2017-06-19 01:21:18+00:00\n",
            "14451\n",
            "61 days 22:36:52\n",
            "17839.2\n"
          ]
        },
        {
          "output_type": "display_data",
          "data": {
            "text/plain": [
              "<Figure size 432x288 with 1 Axes>"
            ],
            "image/png": "[encoded data removed]"
          },
          "metadata": {
            "needs_background": "light"
          }
        },
        {
          "output_type": "stream",
          "name": "stdout",
          "text": [
            "in subject 2, there are missing data of:3389\n"
          ]
        }
      ]
    },
    {
      "cell_type": "code",
      "source": [
        "#for subject3, the sampling rate is 6:07,the duration is from 2017-05-05 00:04:26 to  2017-07-05 23:56:43 and record 14577 times,\n",
        "print(max(subject3[0]))\n",
        "print(min(subject3[0]))\n",
        "print(subject3.shape[0])\n",
        "\n",
        "\n",
        "duration3 = max(subject3[0])-min(subject3[0])\n",
        "print(duration3)\n",
        "\n",
        "print((61*24*60+23*60+52)/5)\n",
        "#our sampling rating is 5 mins, so we are supposed to record 17855 times\n",
        "missing3 = 17855-14577\n",
        "missing3\n",
        "\n",
        "list4 = [14577,17855]\n",
        "list2 = [1,2]\n",
        "plt.bar(list2, list4)\n",
        "plt.show()\n",
        "print(\"in subject 3, there are missing data of\",missing3,sep=':')"
      ],
      "metadata": {
        "colab": {
          "base_uri": "https://localhost:8080/",
          "height": 369
        },
        "id": "-ta3Icii9M4Y",
        "outputId": "82015a6f-0451-42f9-b173-960e44958063"
      },
      "execution_count": 190,
      "outputs": [
        {
          "output_type": "stream",
          "name": "stdout",
          "text": [
            "2017-07-05 23:56:43.365000-04:00\n",
            "2017-05-05 00:04:26.271000-04:00\n",
            "14577\n",
            "61 days 23:52:17.094000\n",
            "17854.4\n"
          ]
        },
        {
          "output_type": "display_data",
          "data": {
            "text/plain": [
              "<Figure size 432x288 with 1 Axes>"
            ],
            "image/png": "[encoded data removed]"
          },
          "metadata": {
            "needs_background": "light"
          }
        },
        {
          "output_type": "stream",
          "name": "stdout",
          "text": [
            "in subject 3, there are missing data of:3278\n"
          ]
        }
      ]
    },
    {
      "cell_type": "code",
      "source": [
        "#for subject4, the sampling rate is 4:30,as our sampling rate is 5 mins, there is no missing values at all.\n",
        "\n",
        "#for subject5, the sampling rate is 6:44,the duration is from 2017-05-03 00:03:51 to  2017-07-04 23:59:45 and record 13440 times,\n",
        "print(max(subject5[0]))\n",
        "print(min(subject5[0]))\n",
        "print(subject5.shape[0])\n",
        "\n",
        "\n",
        "duration5 = max(subject5[0])-min(subject5[0])\n",
        "print(duration5)\n",
        "\n",
        "print((62*24*60+23*60+55)/5)\n",
        "#our sampling rating is 5 mins, so we are supposed to record 18143 times\n",
        "missing5 = 18143-13440\n",
        "missing5\n",
        "\n",
        "list5 = [13440,18143]\n",
        "list2 = [1,2]\n",
        "plt.bar(list2, list5)\n",
        "plt.show()\n",
        "print(\"in subject 5, there are missing data of\",missing5,sep=':')"
      ],
      "metadata": {
        "colab": {
          "base_uri": "https://localhost:8080/",
          "height": 369
        },
        "id": "QMma8czdBMGM",
        "outputId": "ca8848b1-9eff-47bc-8c41-7e16077c2f40"
      },
      "execution_count": 195,
      "outputs": [
        {
          "output_type": "stream",
          "name": "stdout",
          "text": [
            "2017-07-04 23:59:45.703000-07:00\n",
            "2017-05-03 00:03:51.616000-07:00\n",
            "13440\n",
            "62 days 23:55:54.087000\n",
            "18143.0\n"
          ]
        },
        {
          "output_type": "display_data",
          "data": {
            "text/plain": [
              "<Figure size 432x288 with 1 Axes>"
            ],
            "image/png": "[encoded data removed]"
          },
          "metadata": {
            "needs_background": "light"
          }
        },
        {
          "output_type": "stream",
          "name": "stdout",
          "text": [
            "in subject 5, there are missing data of:4703\n"
          ]
        }
      ]
    },
    {
      "cell_type": "code",
      "source": [
        "#for subject6, the sampling rate is 5:48,the duration is from 2017-05-03 00:04:58 to  2017-07-03 23:55:12 and record 15356 times,\n",
        "print(max(subject6[0]))\n",
        "print(min(subject6[0]))\n",
        "print(subject6.shape[0])\n",
        "\n",
        "\n",
        "duration6 = max(subject6[0])-min(subject6[0])\n",
        "print(duration6)\n",
        "\n",
        "print((61*24*60+23*60+50)/5)\n",
        "#our sampling rating is 5 mins, so we are supposed to record 17854 times\n",
        "missing6 = 17854-15356\n",
        "missing5\n",
        "\n",
        "list6 = [15356,17854]\n",
        "list2 = [1,2]\n",
        "plt.bar(list2, list6)\n",
        "plt.show()\n",
        "print(\"in subject 6, there are missing data of\",missing6,sep=':')"
      ],
      "metadata": {
        "colab": {
          "base_uri": "https://localhost:8080/",
          "height": 369
        },
        "id": "JAqFc5cfCGCo",
        "outputId": "2499fdfe-09af-4b02-d700-b4b24924c093"
      },
      "execution_count": 198,
      "outputs": [
        {
          "output_type": "stream",
          "name": "stdout",
          "text": [
            "2017-07-03 23:55:12+00:00\n",
            "2017-05-03 00:04:58+00:00\n",
            "15356\n",
            "61 days 23:50:14\n",
            "17854.0\n"
          ]
        },
        {
          "output_type": "display_data",
          "data": {
            "text/plain": [
              "<Figure size 432x288 with 1 Axes>"
            ],
            "image/png": "[encoded data removed]"
          },
          "metadata": {
            "needs_background": "light"
          }
        },
        {
          "output_type": "stream",
          "name": "stdout",
          "text": [
            "in subject 6, there are missing data of:2498\n"
          ]
        }
      ]
    },
    {
      "cell_type": "code",
      "source": [
        "#for subject7, the sampling rate is 7:43,the duration is from 2017-05-05 00:00:17 to  2017-07-05 23:59:33 and record 11552 times,\n",
        "print(max(subject7[0]))\n",
        "print(min(subject7[0]))\n",
        "print(subject7.shape[0])\n",
        "\n",
        "\n",
        "duration7 = max(subject7[0])-min(subject7[0])\n",
        "print(duration7)\n",
        "\n",
        "print((61*24*60+23*60+59)/5)\n",
        "#our sampling rating is 5 mins, so we are supposed to record 17856 times\n",
        "missing7 = 17856-11552\n",
        "missing7\n",
        "\n",
        "list7 = [11552,17856]\n",
        "list2 = [1,2]\n",
        "plt.bar(list2, list6)\n",
        "plt.show()\n",
        "print(\"in subject 7, there are missing data of\",missing7,sep=':')"
      ],
      "metadata": {
        "colab": {
          "base_uri": "https://localhost:8080/",
          "height": 369
        },
        "id": "4anr9LqnDGwG",
        "outputId": "319b7844-6209-4cfc-a30b-ef11e06c5d4e"
      },
      "execution_count": 201,
      "outputs": [
        {
          "output_type": "stream",
          "name": "stdout",
          "text": [
            "2017-07-05 23:59:33+00:00\n",
            "2017-05-05 00:00:17+00:00\n",
            "11552\n",
            "61 days 23:59:16\n",
            "17855.8\n"
          ]
        },
        {
          "output_type": "display_data",
          "data": {
            "text/plain": [
              "<Figure size 432x288 with 1 Axes>"
            ],
            "image/png": "[encoded data removed]"
          },
          "metadata": {
            "needs_background": "light"
          }
        },
        {
          "output_type": "stream",
          "name": "stdout",
          "text": [
            "in subject 7, there are missing data of:6304\n"
          ]
        }
      ]
    },
    {
      "cell_type": "code",
      "source": [
        "#for subject8, the sampling rate is 5:20,the duration is from 2017-05-10 00:00:58 to  2017-07-04 23:59:49 and record 15118 times,\n",
        "print(max(subject8[0]))\n",
        "print(min(subject8[0]))\n",
        "print(subject8.shape[0])\n",
        "\n",
        "\n",
        "duration8 = max(subject8[0])-min(subject8[0])\n",
        "print(duration8)\n",
        "\n",
        "print((55*24*60+23*60+58)/5)\n",
        "#our sampling rating is 5 mins, so we are supposed to record 16128 times\n",
        "missing8 = 16128-15118\n",
        "missing8\n",
        "\n",
        "list8 = [15118,16128]\n",
        "list2 = [1,2]\n",
        "plt.bar(list2, list8)\n",
        "plt.show()\n",
        "print(\"in subject 8, there are missing data of\",missing8,sep=':')"
      ],
      "metadata": {
        "colab": {
          "base_uri": "https://localhost:8080/",
          "height": 369
        },
        "id": "BVu0NMlIDr1z",
        "outputId": "b9785dd9-2cd5-4b03-899c-6951a68e210a"
      },
      "execution_count": 204,
      "outputs": [
        {
          "output_type": "stream",
          "name": "stdout",
          "text": [
            "2017-07-04 23:59:49+00:00\n",
            "2017-05-10 00:00:58+00:00\n",
            "15118\n",
            "55 days 23:58:51\n",
            "16127.6\n"
          ]
        },
        {
          "output_type": "display_data",
          "data": {
            "text/plain": [
              "<Figure size 432x288 with 1 Axes>"
            ],
            "image/png": "[encoded data removed]"
          },
          "metadata": {
            "needs_background": "light"
          }
        },
        {
          "output_type": "stream",
          "name": "stdout",
          "text": [
            "in subject 8, there are missing data of:1010\n"
          ]
        }
      ]
    },
    {
      "cell_type": "code",
      "source": [
        "#for subject9, the sampling rate is 4:08,as our sampling rate is 5 mins, there is no missing values at all.\n",
        "\n",
        "#for subject10, the sampling rate is 5:11,the duration is from 2017-06-12 00:00:03 to  2017-08-12 23:55:30 and record 17181 times,\n",
        "print(max(subject10[0]))\n",
        "print(min(subject10[0]))\n",
        "print(subject10.shape[0])\n",
        "\n",
        "\n",
        "duration10 = max(subject10[0])-min(subject10[0])\n",
        "print(duration10)\n",
        "\n",
        "print((61*24*60+23*60+55)/5)\n",
        "#our sampling rating is 5 mins, so we are supposed to record 17855 times\n",
        "missing10 = 17855-17181\n",
        "missing10\n",
        "\n",
        "list10 = [17181,17855]\n",
        "list2 = [1,2]\n",
        "plt.bar(list2, list10)\n",
        "plt.show()\n",
        "print(\"in subject 10, there are missing data of\",missing10,sep=':')"
      ],
      "metadata": {
        "colab": {
          "base_uri": "https://localhost:8080/",
          "height": 369
        },
        "id": "w59pBh3EEPri",
        "outputId": "42257c74-c009-485c-ba64-2bf61e98db07"
      },
      "execution_count": 207,
      "outputs": [
        {
          "output_type": "stream",
          "name": "stdout",
          "text": [
            "2017-08-12 23:55:30+00:00\n",
            "2017-06-12 00:00:03+00:00\n",
            "17181\n",
            "61 days 23:55:27\n",
            "17855.0\n"
          ]
        },
        {
          "output_type": "display_data",
          "data": {
            "text/plain": [
              "<Figure size 432x288 with 1 Axes>"
            ],
            "image/png": "[encoded data removed]"
          },
          "metadata": {
            "needs_background": "light"
          }
        },
        {
          "output_type": "stream",
          "name": "stdout",
          "text": [
            "in subject 10, there are missing data of:674\n"
          ]
        }
      ]
    },
    {
      "cell_type": "markdown",
      "source": [
        "##3.\n",
        " Graph a box-plot that shows various statistics on the data for each subject. In \n",
        "this plot, let the x-axis show subject number and y-axis show blood glucose \n",
        "values. "
      ],
      "metadata": {
        "id": "ft8BLlW7E4cD"
      }
    },
    {
      "cell_type": "code",
      "source": [
        "subject1new = subject1.rename(columns={1: 'subject1'})\n",
        "subject2new = subject2.rename(columns={1: 'subject2'})\n",
        "subject3new = subject3.rename(columns={1: 'subject3'})\n",
        "subject4new = subject4.rename(columns={1: 'subject4'})\n",
        "subject5new = subject5.rename(columns={1: 'subject5'})\n",
        "subject6new = subject6.rename(columns={1: 'subject6'})\n",
        "subject7new = subject7.rename(columns={1: 'subject7'})\n",
        "subject8new = subject8.rename(columns={1: 'subject8'})\n",
        "subject9new = subject9.rename(columns={1: 'subject9'})\n",
        "subject10new = subject10.rename(columns={1: 'subject10'})\n",
        "\n",
        "\n",
        "result = pd.concat([subject1new[\"subject1\"], subject2new[\"subject2\"],\n",
        "                    subject3new[\"subject3\"],subject4new[\"subject4\"],subject5new[\"subject5\"],\n",
        "                    subject6new[\"subject6\"],subject7new[\"subject7\"],subject8new[\"subject8\"],subject9new[\"subject9\"],subject10new[\"subject10\"]], axis=1, ignore_index=True)\n",
        "\n",
        "\n",
        "result = result.rename(columns={0: \"1\", 1: '2',2: \"3\", 3: '4',4: \"5\", 5: '6',6: \"7\", 7: '8',8: \"9\", 9: '10'})\n",
        "\n",
        "\n",
        "boxplot = result.boxplot(column=['1', '2', '3','4','5','6','7','8','9','10'])\n",
        "boxplot.set_ylabel('blood glucose')\n",
        "boxplot.set_xlabel(\"subject\")\n",
        "boxplot"
      ],
      "metadata": {
        "colab": {
          "base_uri": "https://localhost:8080/",
          "height": 351
        },
        "id": "6wzZNaiTE9W5",
        "outputId": "9416ce55-8597-4e98-dc40-93a735ea2844"
      },
      "execution_count": 67,
      "outputs": [
        {
          "output_type": "stream",
          "name": "stderr",
          "text": [
            "/usr/local/lib/python3.7/dist-packages/matplotlib/cbook/__init__.py:1376: VisibleDeprecationWarning: Creating an ndarray from ragged nested sequences (which is a list-or-tuple of lists-or-tuples-or ndarrays with different lengths or shapes) is deprecated. If you meant to do this, you must specify 'dtype=object' when creating the ndarray.\n",
            "  X = np.atleast_1d(X.T if isinstance(X, np.ndarray) else np.asarray(X))\n"
          ]
        },
        {
          "output_type": "execute_result",
          "data": {
            "text/plain": [
              "<matplotlib.axes._subplots.AxesSubplot at 0x7fd11b600210>"
            ]
          },
          "metadata": {},
          "execution_count": 67
        },
        {
          "output_type": "display_data",
          "data": {
            "text/plain": [
              "<Figure size 432x288 with 1 Axes>"
            ],
            "image/png": "[encoded data removed]"
          },
          "metadata": {
            "needs_background": "light"
          }
        }
      ]
    },
    {
      "cell_type": "markdown",
      "source": [
        "##4. \n",
        "Plot a time series graph that shows example CGM data from any 3 subjects of \n",
        "your choice on any 24-hour period within their dataset. \n"
      ],
      "metadata": {
        "id": "i35tBB61s0Lv"
      }
    },
    {
      "cell_type": "code",
      "source": [
        "#select subject2, subject3,subject7, time we choose 2017-07-04\n",
        "#subject2 from 2017-06-19 01:21:18 to  2017-08-19 23:58:10\n",
        "#subject3 from 2017-05-05 00:04:26 to  2017-07-05 23:56:43\n",
        "#subject7 from 2017-05-05 00:00:17 to  2017-07-05 23:59:33\n",
        "\n",
        "subject2[0]=subject2[0].astype(str)\n",
        "subject2[\"date\"]= subject2[0].str[:10]\n",
        "subject2sub = subject2[subject2[\"date\"] == \"2017-07-04\"]\n",
        "subject2sub[\"time\"]=subject2sub[0].str[11:19]\n",
        "subject2sub[\"timefull\"]=subject2sub[\"date\"]+\" \"+subject2sub[\"time\"]\n",
        "subject2sub\n",
        "\n",
        "subject3[0]=subject3[0].astype(str)\n",
        "subject3[\"date\"]= subject3[0].str[:10]\n",
        "subject3sub = subject3[subject3[\"date\"] == \"2017-07-04\"]\n",
        "subject3sub[\"time\"]=subject3sub[0].str[11:19]\n",
        "subject3sub[\"timefull\"]=subject3sub[\"date\"]+\" \"+subject3sub[\"time\"]\n",
        "subject3sub\n",
        "\n",
        "subject7[0]=subject7[0].astype(str)\n",
        "subject7[\"date\"]= subject7[0].str[:10]\n",
        "subject7sub = subject7[subject7[\"date\"] == \"2017-07-04\"]\n",
        "subject7sub[\"time\"]=subject7sub[0].str[11:19]\n",
        "subject7sub[\"timefull\"]=subject7sub[\"date\"]+\" \"+subject7sub[\"time\"]\n",
        "subject7sub"
      ],
      "metadata": {
        "colab": {
          "base_uri": "https://localhost:8080/",
          "height": 997
        },
        "id": "DCypV-Gps5ti",
        "outputId": "ba72cacd-ba1a-47d2-ab06-6453a9b87d04"
      },
      "execution_count": 105,
      "outputs": [
        {
          "output_type": "stream",
          "name": "stderr",
          "text": [
            "/usr/local/lib/python3.7/dist-packages/ipykernel_launcher.py:9: SettingWithCopyWarning: \n",
            "A value is trying to be set on a copy of a slice from a DataFrame.\n",
            "Try using .loc[row_indexer,col_indexer] = value instead\n",
            "\n",
            "See the caveats in the documentation: https://pandas.pydata.org/pandas-docs/stable/user_guide/indexing.html#returning-a-view-versus-a-copy\n",
            "  if __name__ == '__main__':\n",
            "/usr/local/lib/python3.7/dist-packages/ipykernel_launcher.py:10: SettingWithCopyWarning: \n",
            "A value is trying to be set on a copy of a slice from a DataFrame.\n",
            "Try using .loc[row_indexer,col_indexer] = value instead\n",
            "\n",
            "See the caveats in the documentation: https://pandas.pydata.org/pandas-docs/stable/user_guide/indexing.html#returning-a-view-versus-a-copy\n",
            "  # Remove the CWD from sys.path while we load stuff.\n",
            "/usr/local/lib/python3.7/dist-packages/ipykernel_launcher.py:16: SettingWithCopyWarning: \n",
            "A value is trying to be set on a copy of a slice from a DataFrame.\n",
            "Try using .loc[row_indexer,col_indexer] = value instead\n",
            "\n",
            "See the caveats in the documentation: https://pandas.pydata.org/pandas-docs/stable/user_guide/indexing.html#returning-a-view-versus-a-copy\n",
            "  app.launch_new_instance()\n",
            "/usr/local/lib/python3.7/dist-packages/ipykernel_launcher.py:17: SettingWithCopyWarning: \n",
            "A value is trying to be set on a copy of a slice from a DataFrame.\n",
            "Try using .loc[row_indexer,col_indexer] = value instead\n",
            "\n",
            "See the caveats in the documentation: https://pandas.pydata.org/pandas-docs/stable/user_guide/indexing.html#returning-a-view-versus-a-copy\n",
            "/usr/local/lib/python3.7/dist-packages/ipykernel_launcher.py:23: SettingWithCopyWarning: \n",
            "A value is trying to be set on a copy of a slice from a DataFrame.\n",
            "Try using .loc[row_indexer,col_indexer] = value instead\n",
            "\n",
            "See the caveats in the documentation: https://pandas.pydata.org/pandas-docs/stable/user_guide/indexing.html#returning-a-view-versus-a-copy\n",
            "/usr/local/lib/python3.7/dist-packages/ipykernel_launcher.py:24: SettingWithCopyWarning: \n",
            "A value is trying to be set on a copy of a slice from a DataFrame.\n",
            "Try using .loc[row_indexer,col_indexer] = value instead\n",
            "\n",
            "See the caveats in the documentation: https://pandas.pydata.org/pandas-docs/stable/user_guide/indexing.html#returning-a-view-versus-a-copy\n"
          ]
        },
        {
          "output_type": "execute_result",
          "data": {
            "text/plain": [
              "                            0    1        date      time             timefull\n",
              "260  2017-07-04T23:59:39.000Z   68  2017-07-04  23:59:39  2017-07-04 23:59:39\n",
              "261  2017-07-04T23:54:39.000Z   69  2017-07-04  23:54:39  2017-07-04 23:54:39\n",
              "262  2017-07-04T23:49:39.000Z   70  2017-07-04  23:49:39  2017-07-04 23:49:39\n",
              "263  2017-07-04T23:44:38.000Z   69  2017-07-04  23:44:38  2017-07-04 23:44:38\n",
              "264  2017-07-04T23:39:39.000Z   68  2017-07-04  23:39:39  2017-07-04 23:39:39\n",
              "..                        ...  ...         ...       ...                  ...\n",
              "519  2017-07-04T00:24:43.000Z  109  2017-07-04  00:24:43  2017-07-04 00:24:43\n",
              "520  2017-07-04T00:19:44.000Z  101  2017-07-04  00:19:44  2017-07-04 00:19:44\n",
              "521  2017-07-04T00:14:43.000Z  105  2017-07-04  00:14:43  2017-07-04 00:14:43\n",
              "522  2017-07-04T00:09:44.000Z  109  2017-07-04  00:09:44  2017-07-04 00:09:44\n",
              "523  2017-07-04T00:04:44.000Z  116  2017-07-04  00:04:44  2017-07-04 00:04:44\n",
              "\n",
              "[264 rows x 5 columns]"
            ],
            "text/html": [
              "\n",
              "  <div id=\"df-16f72bcf-48b9-4fbc-b707-8e29e6096785\">\n",
              "    <div class=\"colab-df-container\">\n",
              "      <div>\n",
              "<style scoped>\n",
              "    .dataframe tbody tr th:only-of-type {\n",
              "        vertical-align: middle;\n",
              "    }\n",
              "\n",
              "    .dataframe tbody tr th {\n",
              "        vertical-align: top;\n",
              "    }\n",
              "\n",
              "    .dataframe thead th {\n",
              "        text-align: right;\n",
              "    }\n",
              "</style>\n",
              "<table border=\"1\" class=\"dataframe\">\n",
              "  <thead>\n",
              "    <tr style=\"text-align: right;\">\n",
              "      <th></th>\n",
              "      <th>0</th>\n",
              "      <th>1</th>\n",
              "      <th>date</th>\n",
              "      <th>time</th>\n",
              "      <th>timefull</th>\n",
              "    </tr>\n",
              "  </thead>\n",
              "  <tbody>\n",
              "    <tr>\n",
              "      <th>260</th>\n",
              "      <td>2017-07-04T23:59:39.000Z</td>\n",
              "      <td>68</td>\n",
              "      <td>2017-07-04</td>\n",
              "      <td>23:59:39</td>\n",
              "      <td>2017-07-04 23:59:39</td>\n",
              "    </tr>\n",
              "    <tr>\n",
              "      <th>261</th>\n",
              "      <td>2017-07-04T23:54:39.000Z</td>\n",
              "      <td>69</td>\n",
              "      <td>2017-07-04</td>\n",
              "      <td>23:54:39</td>\n",
              "      <td>2017-07-04 23:54:39</td>\n",
              "    </tr>\n",
              "    <tr>\n",
              "      <th>262</th>\n",
              "      <td>2017-07-04T23:49:39.000Z</td>\n",
              "      <td>70</td>\n",
              "      <td>2017-07-04</td>\n",
              "      <td>23:49:39</td>\n",
              "      <td>2017-07-04 23:49:39</td>\n",
              "    </tr>\n",
              "    <tr>\n",
              "      <th>263</th>\n",
              "      <td>2017-07-04T23:44:38.000Z</td>\n",
              "      <td>69</td>\n",
              "      <td>2017-07-04</td>\n",
              "      <td>23:44:38</td>\n",
              "      <td>2017-07-04 23:44:38</td>\n",
              "    </tr>\n",
              "    <tr>\n",
              "      <th>264</th>\n",
              "      <td>2017-07-04T23:39:39.000Z</td>\n",
              "      <td>68</td>\n",
              "      <td>2017-07-04</td>\n",
              "      <td>23:39:39</td>\n",
              "      <td>2017-07-04 23:39:39</td>\n",
              "    </tr>\n",
              "    <tr>\n",
              "      <th>...</th>\n",
              "      <td>...</td>\n",
              "      <td>...</td>\n",
              "      <td>...</td>\n",
              "      <td>...</td>\n",
              "      <td>...</td>\n",
              "    </tr>\n",
              "    <tr>\n",
              "      <th>519</th>\n",
              "      <td>2017-07-04T00:24:43.000Z</td>\n",
              "      <td>109</td>\n",
              "      <td>2017-07-04</td>\n",
              "      <td>00:24:43</td>\n",
              "      <td>2017-07-04 00:24:43</td>\n",
              "    </tr>\n",
              "    <tr>\n",
              "      <th>520</th>\n",
              "      <td>2017-07-04T00:19:44.000Z</td>\n",
              "      <td>101</td>\n",
              "      <td>2017-07-04</td>\n",
              "      <td>00:19:44</td>\n",
              "      <td>2017-07-04 00:19:44</td>\n",
              "    </tr>\n",
              "    <tr>\n",
              "      <th>521</th>\n",
              "      <td>2017-07-04T00:14:43.000Z</td>\n",
              "      <td>105</td>\n",
              "      <td>2017-07-04</td>\n",
              "      <td>00:14:43</td>\n",
              "      <td>2017-07-04 00:14:43</td>\n",
              "    </tr>\n",
              "    <tr>\n",
              "      <th>522</th>\n",
              "      <td>2017-07-04T00:09:44.000Z</td>\n",
              "      <td>109</td>\n",
              "      <td>2017-07-04</td>\n",
              "      <td>00:09:44</td>\n",
              "      <td>2017-07-04 00:09:44</td>\n",
              "    </tr>\n",
              "    <tr>\n",
              "      <th>523</th>\n",
              "      <td>2017-07-04T00:04:44.000Z</td>\n",
              "      <td>116</td>\n",
              "      <td>2017-07-04</td>\n",
              "      <td>00:04:44</td>\n",
              "      <td>2017-07-04 00:04:44</td>\n",
              "    </tr>\n",
              "  </tbody>\n",
              "</table>\n",
              "<p>264 rows × 5 columns</p>\n",
              "</div>\n",
              "      <button class=\"colab-df-convert\" onclick=\"convertToInteractive('df-16f72bcf-48b9-4fbc-b707-8e29e6096785')\"\n",
              "              title=\"Convert this dataframe to an interactive table.\"\n",
              "              style=\"display:none;\">\n",
              "        \n",
              "  <svg xmlns=\"http://www.w3.org/2000/svg\" height=\"24px\"viewBox=\"0 0 24 24\"\n",
              "       width=\"24px\">\n",
              "    <path d=\"M0 0h24v24H0V0z\" fill=\"none\"/>\n",
              "    <path d=\"M18.56 5.44l.94 2.06.94-2.06 2.06-.94-2.06-.94-.94-2.06-.94 2.06-2.06.94zm-11 1L8.5 8.5l.94-2.06 2.06-.94-2.06-.94L8.5 2.5l-.94 2.06-2.06.94zm10 10l.94 2.06.94-2.06 2.06-.94-2.06-.94-.94-2.06-.94 2.06-2.06.94z\"/><path d=\"M17.41 7.96l-1.37-1.37c-.4-.4-.92-.59-1.43-.59-.52 0-1.04.2-1.43.59L10.3 9.45l-7.72 7.72c-.78.78-.78 2.05 0 2.83L4 21.41c.39.39.9.59 1.41.59.51 0 1.02-.2 1.41-.59l7.78-7.78 2.81-2.81c.8-.78.8-2.07 0-2.86zM5.41 20L4 18.59l7.72-7.72 1.47 1.35L5.41 20z\"/>\n",
              "  </svg>\n",
              "      </button>\n",
              "      \n",
              "  <style>\n",
              "    .colab-df-container {\n",
              "      display:flex;\n",
              "      flex-wrap:wrap;\n",
              "      gap: 12px;\n",
              "    }\n",
              "\n",
              "    .colab-df-convert {\n",
              "      background-color: #E8F0FE;\n",
              "      border: none;\n",
              "      border-radius: 50%;\n",
              "      cursor: pointer;\n",
              "      display: none;\n",
              "      fill: #1967D2;\n",
              "      height: 32px;\n",
              "      padding: 0 0 0 0;\n",
              "      width: 32px;\n",
              "    }\n",
              "\n",
              "    .colab-df-convert:hover {\n",
              "      background-color: #E2EBFA;\n",
              "      box-shadow: 0px 1px 2px rgba(60, 64, 67, 0.3), 0px 1px 3px 1px rgba(60, 64, 67, 0.15);\n",
              "      fill: #174EA6;\n",
              "    }\n",
              "\n",
              "    [theme=dark] .colab-df-convert {\n",
              "      background-color: #3B4455;\n",
              "      fill: #D2E3FC;\n",
              "    }\n",
              "\n",
              "    [theme=dark] .colab-df-convert:hover {\n",
              "      background-color: #434B5C;\n",
              "      box-shadow: 0px 1px 3px 1px rgba(0, 0, 0, 0.15);\n",
              "      filter: drop-shadow(0px 1px 2px rgba(0, 0, 0, 0.3));\n",
              "      fill: #FFFFFF;\n",
              "    }\n",
              "  </style>\n",
              "\n",
              "      <script>\n",
              "        const buttonEl =\n",
              "          document.querySelector('#df-16f72bcf-48b9-4fbc-b707-8e29e6096785 button.colab-df-convert');\n",
              "        buttonEl.style.display =\n",
              "          google.colab.kernel.accessAllowed ? 'block' : 'none';\n",
              "\n",
              "        async function convertToInteractive(key) {\n",
              "          const element = document.querySelector('#df-16f72bcf-48b9-4fbc-b707-8e29e6096785');\n",
              "          const dataTable =\n",
              "            await google.colab.kernel.invokeFunction('convertToInteractive',\n",
              "                                                     [key], {});\n",
              "          if (!dataTable) return;\n",
              "\n",
              "          const docLinkHtml = 'Like what you see? Visit the ' +\n",
              "            '<a target=\"_blank\" href=https://colab.research.google.com/notebooks/data_table.ipynb>data table notebook</a>'\n",
              "            + ' to learn more about interactive tables.';\n",
              "          element.innerHTML = '';\n",
              "          dataTable['output_type'] = 'display_data';\n",
              "          await google.colab.output.renderOutput(dataTable, element);\n",
              "          const docLink = document.createElement('div');\n",
              "          docLink.innerHTML = docLinkHtml;\n",
              "          element.appendChild(docLink);\n",
              "        }\n",
              "      </script>\n",
              "    </div>\n",
              "  </div>\n",
              "  "
            ]
          },
          "metadata": {},
          "execution_count": 105
        }
      ]
    },
    {
      "cell_type": "code",
      "source": [
        "from datetime import datetime\n",
        "import numpy as np\n",
        "import datetime\n",
        "subject2sub['timefull']=subject2sub['timefull'].apply(lambda x:datetime.datetime.strptime(x,\"%Y-%m-%d %H:%M:%S\"))\n",
        "subject2sub\n",
        "\n"
      ],
      "metadata": {
        "colab": {
          "base_uri": "https://localhost:8080/",
          "height": 528
        },
        "id": "Vkbv4Pz_40jv",
        "outputId": "45c72429-ba1a-4f02-d5f2-5fb7f041b493"
      },
      "execution_count": 100,
      "outputs": [
        {
          "output_type": "stream",
          "name": "stderr",
          "text": [
            "/usr/local/lib/python3.7/dist-packages/ipykernel_launcher.py:4: SettingWithCopyWarning: \n",
            "A value is trying to be set on a copy of a slice from a DataFrame.\n",
            "Try using .loc[row_indexer,col_indexer] = value instead\n",
            "\n",
            "See the caveats in the documentation: https://pandas.pydata.org/pandas-docs/stable/user_guide/indexing.html#returning-a-view-versus-a-copy\n",
            "  after removing the cwd from sys.path.\n"
          ]
        },
        {
          "output_type": "execute_result",
          "data": {
            "text/plain": [
              "                              0    1        date      time            timefull\n",
              "10813  2017-07-04T23:50:05.000Z  126  2017-07-04  23:50:05 2017-07-04 23:50:05\n",
              "10814  2017-07-04T23:45:05.000Z  126  2017-07-04  23:45:05 2017-07-04 23:45:05\n",
              "10815  2017-07-04T23:40:07.000Z  133  2017-07-04  23:40:07 2017-07-04 23:40:07\n",
              "10816  2017-07-04T23:35:06.000Z  135  2017-07-04  23:35:06 2017-07-04 23:35:06\n",
              "10817  2017-07-04T23:30:05.000Z  141  2017-07-04  23:30:05 2017-07-04 23:30:05\n",
              "...                         ...  ...         ...       ...                 ...\n",
              "11063  2017-07-04T00:35:09.000Z  208  2017-07-04  00:35:09 2017-07-04 00:35:09\n",
              "11064  2017-07-04T00:30:13.000Z  195  2017-07-04  00:30:13 2017-07-04 00:30:13\n",
              "11065  2017-07-04T00:20:11.000Z  159  2017-07-04  00:20:11 2017-07-04 00:20:11\n",
              "11066  2017-07-04T00:05:41.000Z  110  2017-07-04  00:05:41 2017-07-04 00:05:41\n",
              "11067  2017-07-04T00:00:09.000Z  118  2017-07-04  00:00:09 2017-07-04 00:00:09\n",
              "\n",
              "[255 rows x 5 columns]"
            ],
            "text/html": [
              "\n",
              "  <div id=\"df-211a18bb-3277-41c4-a127-e55df304a9e4\">\n",
              "    <div class=\"colab-df-container\">\n",
              "      <div>\n",
              "<style scoped>\n",
              "    .dataframe tbody tr th:only-of-type {\n",
              "        vertical-align: middle;\n",
              "    }\n",
              "\n",
              "    .dataframe tbody tr th {\n",
              "        vertical-align: top;\n",
              "    }\n",
              "\n",
              "    .dataframe thead th {\n",
              "        text-align: right;\n",
              "    }\n",
              "</style>\n",
              "<table border=\"1\" class=\"dataframe\">\n",
              "  <thead>\n",
              "    <tr style=\"text-align: right;\">\n",
              "      <th></th>\n",
              "      <th>0</th>\n",
              "      <th>1</th>\n",
              "      <th>date</th>\n",
              "      <th>time</th>\n",
              "      <th>timefull</th>\n",
              "    </tr>\n",
              "  </thead>\n",
              "  <tbody>\n",
              "    <tr>\n",
              "      <th>10813</th>\n",
              "      <td>2017-07-04T23:50:05.000Z</td>\n",
              "      <td>126</td>\n",
              "      <td>2017-07-04</td>\n",
              "      <td>23:50:05</td>\n",
              "      <td>2017-07-04 23:50:05</td>\n",
              "    </tr>\n",
              "    <tr>\n",
              "      <th>10814</th>\n",
              "      <td>2017-07-04T23:45:05.000Z</td>\n",
              "      <td>126</td>\n",
              "      <td>2017-07-04</td>\n",
              "      <td>23:45:05</td>\n",
              "      <td>2017-07-04 23:45:05</td>\n",
              "    </tr>\n",
              "    <tr>\n",
              "      <th>10815</th>\n",
              "      <td>2017-07-04T23:40:07.000Z</td>\n",
              "      <td>133</td>\n",
              "      <td>2017-07-04</td>\n",
              "      <td>23:40:07</td>\n",
              "      <td>2017-07-04 23:40:07</td>\n",
              "    </tr>\n",
              "    <tr>\n",
              "      <th>10816</th>\n",
              "      <td>2017-07-04T23:35:06.000Z</td>\n",
              "      <td>135</td>\n",
              "      <td>2017-07-04</td>\n",
              "      <td>23:35:06</td>\n",
              "      <td>2017-07-04 23:35:06</td>\n",
              "    </tr>\n",
              "    <tr>\n",
              "      <th>10817</th>\n",
              "      <td>2017-07-04T23:30:05.000Z</td>\n",
              "      <td>141</td>\n",
              "      <td>2017-07-04</td>\n",
              "      <td>23:30:05</td>\n",
              "      <td>2017-07-04 23:30:05</td>\n",
              "    </tr>\n",
              "    <tr>\n",
              "      <th>...</th>\n",
              "      <td>...</td>\n",
              "      <td>...</td>\n",
              "      <td>...</td>\n",
              "      <td>...</td>\n",
              "      <td>...</td>\n",
              "    </tr>\n",
              "    <tr>\n",
              "      <th>11063</th>\n",
              "      <td>2017-07-04T00:35:09.000Z</td>\n",
              "      <td>208</td>\n",
              "      <td>2017-07-04</td>\n",
              "      <td>00:35:09</td>\n",
              "      <td>2017-07-04 00:35:09</td>\n",
              "    </tr>\n",
              "    <tr>\n",
              "      <th>11064</th>\n",
              "      <td>2017-07-04T00:30:13.000Z</td>\n",
              "      <td>195</td>\n",
              "      <td>2017-07-04</td>\n",
              "      <td>00:30:13</td>\n",
              "      <td>2017-07-04 00:30:13</td>\n",
              "    </tr>\n",
              "    <tr>\n",
              "      <th>11065</th>\n",
              "      <td>2017-07-04T00:20:11.000Z</td>\n",
              "      <td>159</td>\n",
              "      <td>2017-07-04</td>\n",
              "      <td>00:20:11</td>\n",
              "      <td>2017-07-04 00:20:11</td>\n",
              "    </tr>\n",
              "    <tr>\n",
              "      <th>11066</th>\n",
              "      <td>2017-07-04T00:05:41.000Z</td>\n",
              "      <td>110</td>\n",
              "      <td>2017-07-04</td>\n",
              "      <td>00:05:41</td>\n",
              "      <td>2017-07-04 00:05:41</td>\n",
              "    </tr>\n",
              "    <tr>\n",
              "      <th>11067</th>\n",
              "      <td>2017-07-04T00:00:09.000Z</td>\n",
              "      <td>118</td>\n",
              "      <td>2017-07-04</td>\n",
              "      <td>00:00:09</td>\n",
              "      <td>2017-07-04 00:00:09</td>\n",
              "    </tr>\n",
              "  </tbody>\n",
              "</table>\n",
              "<p>255 rows × 5 columns</p>\n",
              "</div>\n",
              "      <button class=\"colab-df-convert\" onclick=\"convertToInteractive('df-211a18bb-3277-41c4-a127-e55df304a9e4')\"\n",
              "              title=\"Convert this dataframe to an interactive table.\"\n",
              "              style=\"display:none;\">\n",
              "        \n",
              "  <svg xmlns=\"http://www.w3.org/2000/svg\" height=\"24px\"viewBox=\"0 0 24 24\"\n",
              "       width=\"24px\">\n",
              "    <path d=\"M0 0h24v24H0V0z\" fill=\"none\"/>\n",
              "    <path d=\"M18.56 5.44l.94 2.06.94-2.06 2.06-.94-2.06-.94-.94-2.06-.94 2.06-2.06.94zm-11 1L8.5 8.5l.94-2.06 2.06-.94-2.06-.94L8.5 2.5l-.94 2.06-2.06.94zm10 10l.94 2.06.94-2.06 2.06-.94-2.06-.94-.94-2.06-.94 2.06-2.06.94z\"/><path d=\"M17.41 7.96l-1.37-1.37c-.4-.4-.92-.59-1.43-.59-.52 0-1.04.2-1.43.59L10.3 9.45l-7.72 7.72c-.78.78-.78 2.05 0 2.83L4 21.41c.39.39.9.59 1.41.59.51 0 1.02-.2 1.41-.59l7.78-7.78 2.81-2.81c.8-.78.8-2.07 0-2.86zM5.41 20L4 18.59l7.72-7.72 1.47 1.35L5.41 20z\"/>\n",
              "  </svg>\n",
              "      </button>\n",
              "      \n",
              "  <style>\n",
              "    .colab-df-container {\n",
              "      display:flex;\n",
              "      flex-wrap:wrap;\n",
              "      gap: 12px;\n",
              "    }\n",
              "\n",
              "    .colab-df-convert {\n",
              "      background-color: #E8F0FE;\n",
              "      border: none;\n",
              "      border-radius: 50%;\n",
              "      cursor: pointer;\n",
              "      display: none;\n",
              "      fill: #1967D2;\n",
              "      height: 32px;\n",
              "      padding: 0 0 0 0;\n",
              "      width: 32px;\n",
              "    }\n",
              "\n",
              "    .colab-df-convert:hover {\n",
              "      background-color: #E2EBFA;\n",
              "      box-shadow: 0px 1px 2px rgba(60, 64, 67, 0.3), 0px 1px 3px 1px rgba(60, 64, 67, 0.15);\n",
              "      fill: #174EA6;\n",
              "    }\n",
              "\n",
              "    [theme=dark] .colab-df-convert {\n",
              "      background-color: #3B4455;\n",
              "      fill: #D2E3FC;\n",
              "    }\n",
              "\n",
              "    [theme=dark] .colab-df-convert:hover {\n",
              "      background-color: #434B5C;\n",
              "      box-shadow: 0px 1px 3px 1px rgba(0, 0, 0, 0.15);\n",
              "      filter: drop-shadow(0px 1px 2px rgba(0, 0, 0, 0.3));\n",
              "      fill: #FFFFFF;\n",
              "    }\n",
              "  </style>\n",
              "\n",
              "      <script>\n",
              "        const buttonEl =\n",
              "          document.querySelector('#df-211a18bb-3277-41c4-a127-e55df304a9e4 button.colab-df-convert');\n",
              "        buttonEl.style.display =\n",
              "          google.colab.kernel.accessAllowed ? 'block' : 'none';\n",
              "\n",
              "        async function convertToInteractive(key) {\n",
              "          const element = document.querySelector('#df-211a18bb-3277-41c4-a127-e55df304a9e4');\n",
              "          const dataTable =\n",
              "            await google.colab.kernel.invokeFunction('convertToInteractive',\n",
              "                                                     [key], {});\n",
              "          if (!dataTable) return;\n",
              "\n",
              "          const docLinkHtml = 'Like what you see? Visit the ' +\n",
              "            '<a target=\"_blank\" href=https://colab.research.google.com/notebooks/data_table.ipynb>data table notebook</a>'\n",
              "            + ' to learn more about interactive tables.';\n",
              "          element.innerHTML = '';\n",
              "          dataTable['output_type'] = 'display_data';\n",
              "          await google.colab.output.renderOutput(dataTable, element);\n",
              "          const docLink = document.createElement('div');\n",
              "          docLink.innerHTML = docLinkHtml;\n",
              "          element.appendChild(docLink);\n",
              "        }\n",
              "      </script>\n",
              "    </div>\n",
              "  </div>\n",
              "  "
            ]
          },
          "metadata": {},
          "execution_count": 100
        }
      ]
    },
    {
      "cell_type": "code",
      "source": [
        "subject3sub['timefull']=subject3sub['timefull'].apply(lambda x:datetime.datetime.strptime(x,\"%Y-%m-%d %H:%M:%S\"))\n",
        "subject3sub\n"
      ],
      "metadata": {
        "id": "ACrHOdLu8aFl"
      },
      "execution_count": null,
      "outputs": []
    },
    {
      "cell_type": "code",
      "source": [
        "subject7sub['timefull']=subject7sub['timefull'].apply(lambda x:datetime.datetime.strptime(x,\"%Y-%m-%d %H:%M:%S\"))\n",
        "subject7sub"
      ],
      "metadata": {
        "id": "R7iGSXIQ8f6O"
      },
      "execution_count": null,
      "outputs": []
    },
    {
      "cell_type": "code",
      "source": [
        "#subject2 time series plot \n",
        "x1 = np.array([datetime.datetime(2017, 7, 4, i, 0) for i in range(24)])\n",
        "y1 = np.random.randint(100, size=x1.shape)\n",
        "\n",
        "plt.plot(x1,y1)\n",
        "plt.show()"
      ],
      "metadata": {
        "colab": {
          "base_uri": "https://localhost:8080/",
          "height": 265
        },
        "id": "GH6jjMVQ75dx",
        "outputId": "c40b0824-6393-45f0-8c13-ca6a1dc7c202"
      },
      "execution_count": 102,
      "outputs": [
        {
          "output_type": "display_data",
          "data": {
            "text/plain": [
              "<Figure size 432x288 with 1 Axes>"
            ],
            "image/png": "[encoded data removed]"
          },
          "metadata": {
            "needs_background": "light"
          }
        }
      ]
    },
    {
      "cell_type": "code",
      "source": [
        "#subject3 time series plot\n",
        "x2 = np.array([datetime.datetime(2017, 7, 4, i, 0) for i in range(24)])\n",
        "y2 = np.random.randint(100, size=x2.shape)\n",
        "\n",
        "plt.plot(x2,y2)\n",
        "plt.show()"
      ],
      "metadata": {
        "colab": {
          "base_uri": "https://localhost:8080/",
          "height": 265
        },
        "id": "j37KwQlS8lve",
        "outputId": "431ec842-6e6b-42a1-e6fb-5d51fd674e74"
      },
      "execution_count": 108,
      "outputs": [
        {
          "output_type": "display_data",
          "data": {
            "text/plain": [
              "<Figure size 432x288 with 1 Axes>"
            ],
            "image/png": "[encoded data removed]"
          },
          "metadata": {
            "needs_background": "light"
          }
        }
      ]
    },
    {
      "cell_type": "code",
      "source": [
        "#subject7 time series plot\n",
        "x3 = np.array([datetime.datetime(2017, 7, 4, i, 0) for i in range(24)])\n",
        "y3 = np.random.randint(100, size=x3.shape)\n",
        "\n",
        "plt.plot(x3,y3)\n",
        "plt.show()"
      ],
      "metadata": {
        "colab": {
          "base_uri": "https://localhost:8080/",
          "height": 265
        },
        "id": "BkhjqeCF8qnd",
        "outputId": "8505bfe9-6b3e-4e5a-e825-efb2e4789868"
      },
      "execution_count": 109,
      "outputs": [
        {
          "output_type": "display_data",
          "data": {
            "text/plain": [
              "<Figure size 432x288 with 1 Axes>"
            ],
            "image/png": "[encoded data removed]"
          },
          "metadata": {
            "needs_background": "light"
          }
        }
      ]
    },
    {
      "cell_type": "markdown",
      "source": [
        "##5.\n",
        " What is the date range of data available for each subject present in the \n",
        "dataset. Show results visually in a figure. \n"
      ],
      "metadata": {
        "id": "CxWyZbA5860f"
      }
    },
    {
      "cell_type": "code",
      "source": [
        "#for subject 1, \n",
        "duration1 = max(subject1[0])-min(subject1[0])\n",
        "#62 days 23:48:06\n",
        "minutes1 = 62*24*60+23*60+48\n",
        "print(\"subject1: the max date is: \",max(subject1[0]),\" the mini date is: \",min(subject1[0]),\" the range is: \", duration1,\"in minutes is: \", minutes1, sep=',')\n",
        "\n",
        "#for subuect 2,\n",
        "duration2 = max(subject2[0])-min(subject2[0])\n",
        "minutes2 = 61*24*60+22*60+36\n",
        "print(\"subject2: the max date is: \",max(subject2[0]),\" the mini date is: \",min(subject2[0]),\" the range is: \", duration2,\"in minutes is: \", minutes2,sep=',')\n",
        "\n",
        "#for subuect 3,\n",
        "duration3 = max(subject3[0])-min(subject3[0])\n",
        "minutes3 =61*24*60+23*60+52 \n",
        "print(\"subject3: the max date is: \",max(subject3[0]),\" the mini date is: \",min(subject3[0]),\" the range is: \",duration3,\"in minutes is: \", minutes3,sep=',')\n",
        "\n",
        "#for subuect 4, \n",
        "duration4 = max(subject4[\"time\"])-min(subject4[\"time\"])\n",
        "minutes4 = 59*24*60+23*60+59\n",
        "print(\"subject4: the max date is: \",max(subject4[\"time\"]),\" the mini date is: \",min(subject4[\"time\"]),\" the range is: \", duration4,\"in minutes is: \", minutes4,sep=',')\n",
        "\n",
        "#for subuect 5,\n",
        "duration5 = max(subject5[0])-min(subject5[0])\n",
        "minutes5 = 62*24*60+23*60+55 \n",
        "print(\"subject5: the max date is: \",max(subject5[0]),\" the mini date is: \",min(subject5[0]),\" the range is: \", duration5,\"in minutes is: \",minutes5,sep=',')\n",
        "\n",
        "#for subuect 6,\n",
        "duration6 = max(subject6[0])-min(subject6[0])\n",
        "minutes6 = 61*24*60+23*60+50\n",
        "print(\"subject6: the max date is: \",max(subject6[0]),\" the mini date is: \",min(subject6[0]),\" the range is: \", duration6,\"in minutes is: \",minutes6,sep=',')\n",
        "\n",
        "#for subuect 7,\n",
        "duration7 = max(subject7[0])-min(subject7[0])\n",
        "minutes7 = 61*24*60+23*60+59\n",
        "print(\"subject7: the max date is: \",max(subject7[0]),\" the mini date is: \",min(subject7[0]),\" the range is: \", duration7,\"in minutes is: \",minutes7,sep=',')\n",
        "\n",
        "#for subuect 8, \n",
        "duration8 = max(subject8[0])-min(subject8[0])\n",
        "minutes8 = 55*24*60+23*60+58\n",
        "print(\"subject8: the max date is: \",max(subject8[0]),\" the mini date is: \",min(subject8[0]),\" the range is: \", duration8,\"in minutes is: \",minutes8,sep=',')\n",
        "\n",
        "#for subuect 9, \n",
        "duration9 = max(subject9[0])-min(subject9[0])  \n",
        "minutes9 = 61*24*60+23*60+52\n",
        "print(\"subject9: the max date is: \",max(subject9[0]),\" the mini date is: \",min(subject9[0]),\" the range is: \", duration9,\"in minutes is: \",minutes9,sep=',')\n",
        "\n",
        "#for subuect 10, \n",
        "duration10 = max(subject10[0])-min(subject10[0])\n",
        "minutes10 = 61*24*60+23*60+55\n",
        "print(\"subject10: the max date is: \",max(subject10[0]),\" the mini date is: \",min(subject10[0]),\" the range is: \", duration10,\"in minutes is: \",minutes10,sep=',')"
      ],
      "metadata": {
        "colab": {
          "base_uri": "https://localhost:8080/"
        },
        "id": "qTXrycII8_eC",
        "outputId": "c2d7da72-7732-4770-8119-5c8aced2967f"
      },
      "execution_count": 137,
      "outputs": [
        {
          "output_type": "stream",
          "name": "stdout",
          "text": [
            "subject1: the max date is: ,2017-02-08 23:55:11+00:00, the mini date is: ,2016-12-08 00:07:05+00:00, the range is: ,62 days 23:48:06,in minutes is: ,90708\n",
            "subject2: the max date is: ,2017-08-19 23:58:10+00:00, the mini date is: ,2017-06-19 01:21:18+00:00, the range is: ,61 days 22:36:52,in minutes is: ,89196\n",
            "subject3: the max date is: ,2017-07-05 23:56:43.365000-04:00, the mini date is: ,2017-05-05 00:04:26.271000-04:00, the range is: ,61 days 23:52:17.094000,in minutes is: ,89272\n",
            "subject4: the max date is: ,2017-04-21 23:59:50, the mini date is: ,2017-02-21 00:00:00, the range is: ,59 days 23:59:50,in minutes is: ,86399\n",
            "subject5: the max date is: ,2017-07-04 23:59:45.703000-07:00, the mini date is: ,2017-05-03 00:03:51.616000-07:00, the range is: ,62 days 23:55:54.087000,in minutes is: ,90715\n",
            "subject6: the max date is: ,2017-07-03 23:55:12+00:00, the mini date is: ,2017-05-03 00:04:58+00:00, the range is: ,61 days 23:50:14,in minutes is: ,89270\n",
            "subject7: the max date is: ,2017-07-05 23:59:33+00:00, the mini date is: ,2017-05-05 00:00:17+00:00, the range is: ,61 days 23:59:16,in minutes is: ,89279\n",
            "subject8: the max date is: ,2017-07-04 23:59:49+00:00, the mini date is: ,2017-05-10 00:00:58+00:00, the range is: ,55 days 23:58:51,in minutes is: ,80638\n",
            "subject9: the max date is: ,2017-05-09 23:56:14.849000-07:00, the mini date is: ,2017-03-09 00:03:53.685000-07:00, the range is: ,61 days 23:52:21.164000,in minutes is: ,89272\n",
            "subject10: the max date is: ,2017-08-12 23:55:30+00:00, the mini date is: ,2017-06-12 00:00:03+00:00, the range is: ,61 days 23:55:27,in minutes is: ,89275\n"
          ]
        }
      ]
    },
    {
      "cell_type": "code",
      "source": [
        "list_5xaxis = [1,2,3,4,5,6,7,8,9,10]\n",
        "list_5yaxis = [minutes1,minutes2,minutes3,minutes4,minutes5,minutes6,minutes7,minutes8,minutes9,minutes10]\n",
        "plt.bar(list_5xaxis,list_5yaxis)\n",
        "plt.show()\n"
      ],
      "metadata": {
        "colab": {
          "base_uri": "https://localhost:8080/",
          "height": 265
        },
        "id": "3h7bJAmHFf3x",
        "outputId": "826e5835-bf32-4b8e-ab09-4b1d4ce90788"
      },
      "execution_count": 141,
      "outputs": [
        {
          "output_type": "display_data",
          "data": {
            "text/plain": [
              "<Figure size 432x288 with 1 Axes>"
            ],
            "image/png": "[encoded data removed]"
          },
          "metadata": {
            "needs_background": "light"
          }
        }
      ]
    },
    {
      "cell_type": "markdown",
      "source": [
        "##6. \n",
        "Identify any 2 other important concepts that you deem is necessary for the \n",
        "team to further understand the content of this dataset. Show results visually \n",
        "using figures. "
      ],
      "metadata": {
        "id": "YYKJiJ5yGASV"
      }
    },
    {
      "cell_type": "code",
      "source": [
        "#first important concept: when the blood glucose values between 70 to 180 is called normal,when it greater than 180, it called\n",
        "#hyper, and when it lower than 70, it called hypo.\n",
        "#it is necessary because it can help gather a subject's records\n",
        "#to give feedback to him to advice ahead to change his lifestyle in order to preventing risk to get ill.\n",
        "\n",
        "#example of subject 1 \n",
        "subject1hyper = subject1[subject1[1] > 180]\n",
        "subject1hyper.shape[0]\n",
        "#there are 1649 hyper\n",
        "subject1norm = subject1[(subject1[1]>70) & (subject1[1]<180)]\n",
        "subject1norm.shape[0]\n",
        "#there are 14174 normal\n",
        "subject1hypo = subject1[subject1[1]<70]\n",
        "subject1hypo.shape[0]\n",
        "#there are 928 hypo\n",
        "#and we can show a pie graph of subject 1 through all his tracking values.\n",
        "y = np.array([1649, 14174,928])\n",
        "mylabels = [\"hyper=1649\", \"normal=14174\", \"hypo=928\"]\n",
        "\n",
        "plt.pie(y, labels = mylabels)\n",
        "plt.show() "
      ],
      "metadata": {
        "colab": {
          "base_uri": "https://localhost:8080/",
          "height": 248
        },
        "id": "qE5JK_5iGE_y",
        "outputId": "ca80142b-cc8c-4b28-a2c5-535bf7c9c074"
      },
      "execution_count": 161,
      "outputs": [
        {
          "output_type": "display_data",
          "data": {
            "text/plain": [
              "<Figure size 432x288 with 1 Axes>"
            ],
            "image/png": "[encoded data removed]"
          },
          "metadata": {}
        }
      ]
    },
    {
      "cell_type": "code",
      "source": [
        "#second important concept: A glucose level of 99 mg/dL or lower is normal, \n",
        "#100 to 125 mg/dL indicates you have prediabetes, and 126 mg/dL or higher indicates you have diabetes.\n",
        "#we can use this to check the percentage the patients have in three areas to give a reliable results of whether he close to diabetes or not.\n",
        "\n",
        "#example of subject2 \n",
        "subject2normal = subject2[subject2[1] > 99]\n",
        "print(subject2normal.shape[0])\n",
        "#there are 11884 hyper\n",
        "subject2prediabetes = subject2[(subject2[1]>100) & (subject2[1]<125)]\n",
        "print(subject2prediabetes.shape[0])\n",
        "#there are 2586 normal\n",
        "subject2dia = subject2[subject2[1]>126]\n",
        "print(subject2dia.shape[0])\n",
        "#there are 8971 hypo\n",
        "\n",
        "#and we can show a pie graph of subject 2 through all his values in precentage.\n",
        "#print(8971/(11884+2586+8971))\n",
        "y = np.array([11884, 2586,8971])\n",
        "mylabels = [\"normal=50.7%\", \"prediabetes=11.1%\", \"diabetes=38.2%\"]\n",
        "\n",
        "plt.pie(y, labels = mylabels)\n",
        "plt.show() \n",
        "#this person get risk to obtain diabetes."
      ],
      "metadata": {
        "id": "LinnXvX9N8Mk",
        "outputId": "a57350e2-909b-4193-d2f5-7b8ca7492dfd",
        "colab": {
          "base_uri": "https://localhost:8080/",
          "height": 300
        }
      },
      "execution_count": 168,
      "outputs": [
        {
          "output_type": "stream",
          "name": "stdout",
          "text": [
            "11884\n",
            "2586\n",
            "8971\n"
          ]
        },
        {
          "output_type": "display_data",
          "data": {
            "text/plain": [
              "<Figure size 432x288 with 1 Axes>"
            ],
            "image/png": "[encoded data removed]"
          },
          "metadata": {}
        }
      ]
    },
    {
      "cell_type": "markdown",
      "source": [
        "##7. \n",
        "Lastly, identify 2 preliminary research questions that could be explored using \n",
        "the provided dataset. Think broadly and justify why you believe this dataset is \n",
        "sufficient or fitting for addressing the chosen research questions. "
      ],
      "metadata": {
        "id": "1hjIct-zGjcY"
      }
    },
    {
      "cell_type": "code",
      "source": [
        "#1 research question:\n",
        "#I think we can use the provided dataset to check during which time period in the months people are more likely to get higher glucose value, \n",
        "#we can check which season through a year people more likely to get higher risk in obtaining diabetes. and justify how the festival influence people \n",
        "#in sugar intake and we can even compare between the glocose value among different festivals.\n",
        "#question like: is that glocose level depends on season and which season influence the people the most in sugar intake?\n",
        "\n",
        "#2 research question:\n",
        "#I think we can use this dataset to check which meal across a day has more influence on glocose value.\n",
        "#as we already have the time series records, we can easily devide the times into breakfast period, lunch period, dinner period.\n",
        "#and we can compare the average during each meal how the glocose value varied and give advice to people in certain meal to avoid some types of food.\n",
        "#question like: how does your glucose level changed through meal to meal, keep away to avoid eat too much sugar in dinner(etc.)\n",
        " \n"
      ],
      "metadata": {
        "id": "BCg4NmgBGo7B"
      },
      "execution_count": null,
      "outputs": []
    }
  ],
  "metadata": {
    "colab": {
      "collapsed_sections": [],
      "name": "Welcome To Colaboratory",
      "provenance": []
    },
    "kernelspec": {
      "display_name": "Python 3",
      "name": "python3"
    }
  },
  "nbformat": 4,
  "nbformat_minor": 0
}